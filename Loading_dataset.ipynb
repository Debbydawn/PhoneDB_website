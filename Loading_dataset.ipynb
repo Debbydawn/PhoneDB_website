{
 "cells": [
  {
   "cell_type": "code",
   "execution_count": null,
   "id": "a0b9598f",
   "metadata": {},
   "outputs": [],
   "source": [
    "# reading in the csv data from csv file using csv  \n",
    "\n",
    "\n",
    "import csv\n",
    "\n",
    "file_location = None  # Initialize the variable\n",
    "\n",
    "def load_csv_file():\n",
    "    global file_location  # Use the global variable\n",
    "    while True:\n",
    "        file_location = input(\"Enter the file location: \")\n",
    "\n",
    "        try:\n",
    "            phone_data = []\n",
    "            with open(file_location, 'r', encoding='utf-8') as file:\n",
    "                reader = csv.reader(file)\n",
    "                next(reader)\n",
    "                for line in reader:\n",
    "                    phone_data.append(line)\n",
    "            print(f\"\\nFetching data...\\nSuccessfully loaded the {file_location} dataset.\")\n",
    "            return phone_data\n",
    "\n",
    "        except csv.Error:\n",
    "            print(f\"Invalid CSV file: {file_location}\")\n",
    "        except FileNotFoundError:\n",
    "            print(f\"File not found: {file_location}\")\n",
    "        except IOError:\n",
    "            print(f\"Couldn't read {file_location}.\")\n",
    "\n",
    "        retry = input(\"Do you want to enter a new file location? (yes/no): \")\n",
    "        if retry.lower() != 'yes':\n",
    "            print(\"Exiting file loading...\\n\")\n",
    "            return None  \n",
    "\n",
    "# reading in the csv data as a pandas file using pandas        \n",
    "        \n",
    "import pandas as pd\n",
    "\n",
    "def load_pd_file():\n",
    "    global file_location  # Use the global variable\n",
    "    if file_location is not None:\n",
    "        try:\n",
    "            phone_data = pd.read_csv(file_location, encoding='utf-8')\n",
    "            print(f\"\\nFetching data...\\nSuccessfully loaded the {file_location} pandas dataset.\")\n",
    "            return phone_data\n",
    "        except pd.errors.EmptyDataError:\n",
    "            print(f\"Empty CSV file: {file_location}\")\n",
    "        except FileNotFoundError:\n",
    "            print(f\"File not found: {file_location}\")\n",
    "        except pd.errors.ParserError:\n",
    "            print(f\"Couldn't read {file_location}. It may not be a valid CSV file.\")\n",
    "        except Exception as e:\n",
    "            print(f\"An error occurred while loading the file: {str(e)}\")\n"
   ]
  }
 ],
 "metadata": {
  "kernelspec": {
   "display_name": "Python 3 (ipykernel)",
   "language": "python",
   "name": "python3"
  },
  "language_info": {
   "codemirror_mode": {
    "name": "ipython",
    "version": 3
   },
   "file_extension": ".py",
   "mimetype": "text/x-python",
   "name": "python",
   "nbconvert_exporter": "python",
   "pygments_lexer": "ipython3",
   "version": "3.11.4"
  }
 },
 "nbformat": 4,
 "nbformat_minor": 5
}
