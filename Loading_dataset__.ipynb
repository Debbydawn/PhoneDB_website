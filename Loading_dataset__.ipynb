{
 "cells": [
  {
   "cell_type": "code",
   "execution_count": 1,
   "id": "45e09a81-434c-47fa-af79-70e545ccac8e",
   "metadata": {
    "tags": []
   },
   "outputs": [
    {
     "name": "stdin",
     "output_type": "stream",
     "text": [
      "Enter the file location:  device_features.csv\n"
     ]
    },
    {
     "name": "stdout",
     "output_type": "stream",
     "text": [
      "\n",
      "Fetching data...\n",
      "Successfully loaded the device_features.csv dataset.\n"
     ]
    }
   ],
   "source": [
    "import csv\n",
    "#\"device_features.csv\"\n",
    "file_location = input(\"Enter the file location: \")\n",
    "def load_csv_file():\n",
    "    try:\n",
    "         #input(\"Enter file location: \")\n",
    "        phone_data = []\n",
    "        with open(file_location, 'r', encoding='utf-8') as file:\n",
    "            reader = csv.reader(file)\n",
    "            next(reader)\n",
    "            for line in reader:\n",
    "                phone_data.append(line)\n",
    "            print(f\"\\nFetching data...\\nSuccessfully loaded the {file_location} dataset.\")\n",
    "            return phone_data\n",
    "    except csv.Error:\n",
    "        print(f\"Invalid CSV file: {file_location}\")\n",
    "    except FileNotFoundError:\n",
    "        print(f\"File not found: {file_location}\")\n",
    "    except IOError:\n",
    "        print(f\"Couldn't read {file_location}.\")\n",
    "# call the function\n",
    "loaded_data = load_csv_file()\n",
    "# print(loaded_data)"
   ]
  },
  {
   "cell_type": "code",
   "execution_count": 2,
   "id": "6a2d2ef4-9262-4922-b799-2d66a250d1b8",
   "metadata": {
    "tags": []
   },
   "outputs": [
    {
     "name": "stdout",
     "output_type": "stream",
     "text": [
      "\n",
      "Fetching data...\n",
      "Successfully loaded the device_features.csv pandas dataset.\n"
     ]
    }
   ],
   "source": [
    "import pandas as pd\n",
    "\n",
    "def load_pd_file():\n",
    "    try:\n",
    "        phone_data = pd.read_csv(file_location, encoding='utf-8')\n",
    "        print(f\"\\nFetching data...\\nSuccessfully loaded the {file_location} pandas dataset.\")\n",
    "        return phone_data\n",
    "    except pd.errors.EmptyDataError:\n",
    "        print(f\"Empty CSV file: {file_location}\")\n",
    "    except FileNotFoundError:\n",
    "        print(f\"File not found: {file_location}\")\n",
    "    except pd.errors.ParserError:\n",
    "        print(f\"Couldn't read {file_location}. It may not be a valid CSV file.\")\n",
    "    except Exception as e:\n",
    "        print(f\"An error occurred while loading the file: {str(e)}\")\n",
    "\n",
    "# call the function\n",
    "loaded_data_pd = load_pd_file()\n"
   ]
  },
  {
   "cell_type": "code",
   "execution_count": null,
   "id": "00535c77-f262-4094-bde6-7a8ea3d693f4",
   "metadata": {},
   "outputs": [],
   "source": []
  }
 ],
 "metadata": {
  "kernelspec": {
   "display_name": "COM728",
   "language": "python",
   "name": "com728"
  },
  "language_info": {
   "codemirror_mode": {
    "name": "ipython",
    "version": 3
   },
   "file_extension": ".py",
   "mimetype": "text/x-python",
   "name": "python",
   "nbconvert_exporter": "python",
   "pygments_lexer": "ipython3",
   "version": "3.10.13"
  }
 },
 "nbformat": 4,
 "nbformat_minor": 5
}
