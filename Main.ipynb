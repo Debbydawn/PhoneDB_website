{
 "cells": [
  {
   "cell_type": "markdown",
   "id": "17d8bf0a-ede3-4dcb-8e66-cad07cf649e9",
   "metadata": {},
   "source": [
    "## Testing\n"
   ]
  },
  {
   "cell_type": "code",
   "execution_count": 1,
   "id": "faf757db-9091-4b9c-a949-fc6916124edd",
   "metadata": {},
   "outputs": [
    {
     "name": "stdout",
     "output_type": "stream",
     "text": [
      "\u001b[1m\u001b[34mWelcome to PhoneDB!\u001b[0m\n",
      "\u001b[1m\u001b[4mBrief Background\u001b[0m\n",
      "\u001b[32mPhoneDB website is your go-to information hub for smartphones, tablets, PDAs, and mobile devices.\u001b[0m\n",
      "\u001b[32mOur platform offers a comprehensive collection of data and various services to help you find the most suitable mobile device.\u001b[0m\n",
      "\n",
      "\u001b[1m\u001b[31mThank you for choosing PhoneDB! Let's explore the world of mobile devices together.\u001b[0m\n",
      "What is your name? Deborah Adedigba\n",
      "\n",
      "Yes, DEBORAH ADEDIGBA, let's get to work.\n",
      "\n",
      "Please select a section:\n",
      "A. Work with a CSV file\n",
      "B. Work with a Pandas file\n",
      "C. Visualize using the pandas data\n",
      "Enter the section (A-C): a\n",
      "\n",
      "Please select an operation:\n",
      "1. Load the data from a CSV file\n",
      "2. Get some details on an individual device by oem_id\n",
      "3. Get details of all devices for a specified code name\n",
      "4. Get details of all devices for a specified RAM capacity\n",
      "5. Get details of all devices for a specified brand, category, and price range\n",
      "Enter your choice (1-5): 1\n",
      "Option 1 selected.\n",
      "Enter the file location: device_features.csv\n",
      "\n",
      "\u001b[1mFetching data...\u001b[0m\n",
      "Successfully loaded the \u001b[1mdevice_features.csv\u001b[0m dataset.\n",
      "Do you want to perform another operation in section A? (yes/no): no\n",
      "Returning to the main menu...\n",
      "Do you want to return to the main menu or exit the program? (menu/exit): exit\n",
      "Exiting...\n",
      "Exited\n"
     ]
    }
   ],
   "source": [
    "# importing the modules for the application\n",
    "\n",
    "# module for loading data \n",
    "import Loading_dataset\n",
    "\n",
    "#module for user-interface and menu\n",
    "import Tui\n",
    "\n",
    "# module for function of data retriever\n",
    "import Data_retriever\n",
    "\n",
    "# module for functions of data analysis\n",
    "import Data_analysis\n",
    "\n",
    "# module for the visualization of insight\n",
    "import Data_visualization\n",
    "\n",
    "\n",
    "# running the application\n",
    "def run_application():\n",
    "    \n",
    "    Tui.main_menu()\n",
    "    \n",
    "    \n",
    "run_application()"
   ]
  },
  {
   "cell_type": "code",
   "execution_count": null,
   "id": "a8580da5",
   "metadata": {},
   "outputs": [],
   "source": []
  }
 ],
 "metadata": {
  "kernelspec": {
   "display_name": "COM728",
   "language": "python",
   "name": "com728"
  },
  "language_info": {
   "codemirror_mode": {
    "name": "ipython",
    "version": 3
   },
   "file_extension": ".py",
   "mimetype": "text/x-python",
   "name": "python",
   "nbconvert_exporter": "python",
   "pygments_lexer": "ipython3",
   "version": "3.10.13"
  }
 },
 "nbformat": 4,
 "nbformat_minor": 5
}
