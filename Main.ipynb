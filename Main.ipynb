{
 "cells": [
  {
   "cell_type": "markdown",
   "id": "17d8bf0a-ede3-4dcb-8e66-cad07cf649e9",
   "metadata": {},
   "source": [
    "## Testing\n"
   ]
  },
  {
   "cell_type": "code",
   "execution_count": null,
   "id": "faf757db-9091-4b9c-a949-fc6916124edd",
   "metadata": {},
   "outputs": [],
   "source": [
    "# importing the modules for the application\n",
    "\n",
    "# module for loading data and user-end menus\n",
    "import Loading_dataset\n",
    "\n",
    "# module for function of data retriever\n",
    "import Data_retriever\n",
    "\n",
    "# module for functions of data analysis\n",
    "import Data_analysis\n",
    "\n",
    "# module for the visualization of insight\n",
    "import Data_visualization\n",
    "\n",
    "\n",
    "# running the application\n",
    "def run_application():\n",
    "    \n",
    "    Loading_dataset.run_phoneDB_program()\n",
    "    \n",
    "    \n",
    "run_application()"
   ]
  }
 ],
 "metadata": {
  "kernelspec": {
   "display_name": "COM728",
   "language": "python",
   "name": "com728"
  },
  "language_info": {
   "codemirror_mode": {
    "name": "ipython",
    "version": 3
   },
   "file_extension": ".py",
   "mimetype": "text/x-python",
   "name": "python",
   "nbconvert_exporter": "python",
   "pygments_lexer": "ipython3",
   "version": "3.10.13"
  }
 },
 "nbformat": 4,
 "nbformat_minor": 5
}
