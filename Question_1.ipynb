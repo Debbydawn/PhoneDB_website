{
 "cells": [
  {
   "cell_type": "code",
   "execution_count": 1,
   "id": "d3862e7a",
   "metadata": {
    "tags": []
   },
   "outputs": [],
   "source": [
    "import csv"
   ]
  },
  {
   "cell_type": "code",
   "execution_count": 11,
   "id": "bc582a86",
   "metadata": {
    "tags": []
   },
   "outputs": [
    {
     "name": "stdin",
     "output_type": "stream",
     "text": [
      "Enter location:  device_features.csv\n"
     ]
    }
   ],
   "source": [
    "import csv\n",
    "\n",
    "file_location = input(\"Enter location: \")\n",
    "with open(file_location, \"r\") as file:\n",
    "    data = csv.reader(file)\n",
    "data = data"
   ]
  },
  {
   "cell_type": "code",
   "execution_count": 13,
   "id": "6febe1a8-dcf1-4699-bba8-a005f95df27d",
   "metadata": {
    "tags": []
   },
   "outputs": [
    {
     "name": "stdin",
     "output_type": "stream",
     "text": [
      "Enter the oem id:  TA-1500\n"
     ]
    },
    {
     "name": "stdout",
     "output_type": "stream",
     "text": [
      "The OEM ID TA-1500 details are:\n",
      "The model of the device is: G100 2022 TD-LTE US 32GB N150DL\n",
      "The manufacturer is: Shenzhen TINNO Mobile Technology\n",
      "The weight of the device is: 194.8\n",
      "The price of the device is: 169.99\n",
      "The price unit is: USD\n"
     ]
    }
   ],
   "source": [
    "# Open the CSV file and use 'with' to ensure it's properly closed after reading\n",
    "with open(file_location, \"r\") as file:\n",
    "    data = csv.reader(file)\n",
    "\n",
    "    oem_id = input(\"Enter the oem id: \")\n",
    "    \n",
    "    # Create a flag to check if the OEM ID is found\n",
    "    oem_id_found = False\n",
    "\n",
    "    # Loop through each row in the CSV file\n",
    "    for row in data:\n",
    "        if row and row[0] == oem_id:\n",
    "            # If the OEM ID is found, print the details\n",
    "            value1 = row[2]\n",
    "            value2 = row[6]\n",
    "            value3 = row[14]\n",
    "            value4 = row[15]\n",
    "            value5 = row[16]\n",
    "\n",
    "            print(\"The OEM ID {} details are:\".format(oem_id))\n",
    "            print(\"The model of the device is:\", value1)\n",
    "            print(\"The manufacturer is:\", value2)\n",
    "            print(\"The weight of the device is:\", value3)\n",
    "            print(\"The price of the device is:\", value4)\n",
    "            print(\"The price unit is:\", value5)\n",
    "\n",
    "            oem_id_found = True\n",
    "            break  # Exit the loop as we found the ID\n",
    "\n",
    "    if not oem_id_found:\n",
    "        print(\"No match for the OEM ID details found.\")"
   ]
  },
  {
   "cell_type": "code",
   "execution_count": 21,
   "id": "3f292635-caae-4db2-9b41-c9bd03e394d7",
   "metadata": {},
   "outputs": [
    {
     "name": "stdin",
     "output_type": "stream",
     "text": [
      "Enter the code name:  Samsung A135\n"
     ]
    },
    {
     "name": "stdout",
     "output_type": "stream",
     "text": [
      "The Code name Samsung A135 details are:\n",
      "The band(WLAN) of the device is: 802.11a,802.11b,802.11g,802.11n,802.11ac\n",
      "The model name is: SM-A135U Galaxy A13 2022 Standard Edition TD-LTE US 32GB / SM-A135R4\n",
      "The Ram of the devics is: 3\n",
      "The market region is: North America\n",
      "The date the information was added is: 02-08-23 18:10\n"
     ]
    }
   ],
   "source": [
    "# Retrieve the band, model name, RAM capacity, market regions, and the date when the information was added for device(s) associated with a specified code name.\n",
    "# Open the CSV file and use 'with' to ensure it's properly closed after reading\n",
    "with open(file_location, \"r\") as file:\n",
    "    data = csv.reader(file)\n",
    "    code_name = input(\"Enter the code name: \")\n",
    "\n",
    "    # Create a flag to check if the code name is found\n",
    "    code_name_found = False\n",
    "\n",
    "    # Loop through each row in the CSV file\n",
    "    for row in data:\n",
    "        if row and row[7] == code_name:\n",
    "            # If the code name is found, print the details\n",
    "            value1 = row[41]\n",
    "            value2 = row[2]\n",
    "            value3 = row[23]\n",
    "            value4 = row[44]\n",
    "            value5 = row[45]\n",
    "\n",
    "            print(\"The Code name {} details are:\".format(code_name))\n",
    "            print(\"The band(WLAN) of the device is:\", value1)\n",
    "            print(\"The model name is:\", value2)\n",
    "            print(\"The Ram of the devics is:\", value3)\n",
    "            print(\"The market region is:\", value4)\n",
    "            print(\"The date the information was added is:\", value5)\n",
    "\n",
    "            code_name_found = True\n",
    "            break  # Exit the loop as we found the ID\n",
    "\n",
    "    if not code_name_found:\n",
    "        print(\"No match for the OEM ID details found.\")   "
   ]
  },
  {
   "cell_type": "code",
   "execution_count": null,
   "id": "0d9f88ff-5401-41eb-ac38-7af1f5c940e4",
   "metadata": {
    "tags": []
   },
   "outputs": [],
   "source": [
    "a3. Retrieve the oem_id, release date, announcement date, dimensions, and device \n",
    "category of the device(s) based on a specified RAM capacity."
   ]
  }
 ],
 "metadata": {
  "kernelspec": {
   "display_name": "COM728",
   "language": "python",
   "name": "com728"
  },
  "language_info": {
   "codemirror_mode": {
    "name": "ipython",
    "version": 3
   },
   "file_extension": ".py",
   "mimetype": "text/x-python",
   "name": "python",
   "nbconvert_exporter": "python",
   "pygments_lexer": "ipython3",
   "version": "3.10.13"
  }
 },
 "nbformat": 4,
 "nbformat_minor": 5
}
