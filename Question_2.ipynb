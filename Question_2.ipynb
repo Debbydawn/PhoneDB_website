{
 "cells": [
  {
   "cell_type": "code",
   "execution_count": 1,
   "id": "77a423ba-a935-4e0c-b06e-66bae14bff04",
   "metadata": {
    "tags": []
   },
   "outputs": [
    {
     "name": "stdin",
     "output_type": "stream",
     "text": [
      "Enter the file location:  device_features.csv\n"
     ]
    },
    {
     "name": "stdout",
     "output_type": "stream",
     "text": [
      "\n",
      "Fetching data...\n",
      "Successfully loaded the device_features.csv dataset.\n",
      "\n",
      "Fetching data...\n",
      "Successfully loaded the device_features.csv pandas dataset.\n"
     ]
    }
   ],
   "source": [
    "# import csv\n",
    "import pandas as pd\n",
    "from Loading_dataset import load_pd_file\n",
    "# file_location = input(\"Enter file location: \")\n"
   ]
  },
  {
   "cell_type": "code",
   "execution_count": 62,
   "id": "db18b5c3-864a-4c76-87dc-55fb17408c80",
   "metadata": {
    "tags": []
   },
   "outputs": [
    {
     "name": "stdout",
     "output_type": "stream",
     "text": [
      "\n",
      "Fetching data...\n",
      "Successfully loaded the device_features.csv dataset.\n"
     ]
    }
   ],
   "source": [
    "file_location = \"device_features.csv\"\n",
    "data_file = pd.read_csv(file_location)\n",
    "print(f\"\\nFetching data...\\nSuccessfully loaded the {file_location} dataset.\")\n",
    "# print(data_file.head)"
   ]
  },
  {
   "cell_type": "code",
   "execution_count": 72,
   "id": "5425de76-0623-485c-9d86-fea0e34a3518",
   "metadata": {
    "tags": []
   },
   "outputs": [
    {
     "name": "stdin",
     "output_type": "stream",
     "text": [
      "Enter the band you want to see:  GSM850\n"
     ]
    },
    {
     "name": "stdout",
     "output_type": "stream",
     "text": [
      "Top regions for band: GSM850\n",
      "Region: North America Count: 365\n",
      "Region: Asia Count: 233\n",
      "Region: Asia,Southeast Asia Count: 86\n",
      "Region: Africa,Asia,Australia,Central America,Eastern Europe,Europe,Middle East,North America,Oceania,South America,Southeast Asia,Western Europe,Worldwide Count: 68\n",
      "Region: North America,South America Count: 30\n"
     ]
    }
   ],
   "source": [
    "# user_interface\n",
    "def get_band_regions():\n",
    "    # create a new DataFrame to updated with the splitted data\n",
    "    new_updated_data = data_file\n",
    "\n",
    "    # Split the 'supported_cellular_bands' into individual bands and create a new column\n",
    "    new_updated_data ['individual_bands'] = new_updated_data ['supported_cellular_bands'].str.split(',')\n",
    "\n",
    "    # Explode the list of bands into separate rows\n",
    "    new_updated_data  = new_updated_data .explode('individual_bands')\n",
    "\n",
    "    # Use groupby to count the occurrences of each band in each region\n",
    "    band_counts = new_updated_data .groupby(['market_regions', 'individual_bands']).size().reset_index(name='counts')\n",
    "\n",
    "    # Now, you can find the top 5 regions for each band type\n",
    "    top_regions_by_band = band_counts.groupby('individual_bands').apply(lambda x: x.nlargest(5, 'counts'))\n",
    "\n",
    "    # Drop the 'individual_bands' column to avoid conflicts when resetting the index\n",
    "    top_regions_by_band = top_regions_by_band.drop(columns='individual_bands')\n",
    "\n",
    "    # Reset the index to avoid the ambiguity issue\n",
    "    top_regions_by_band = top_regions_by_band.reset_index()\n",
    "# Ask the user for the band they want to see\n",
    "    user_band = input(\"Enter the band you want to see: \")\n",
    "\n",
    "    # Filter the results for the user-specified band\n",
    "    user_band_data = top_regions_by_band[top_regions_by_band['individual_bands'] == user_band]\n",
    "\n",
    "    if not user_band_data.empty:\n",
    "        print(f\"Top regions for band: {user_band}\")\n",
    "        for _, row in user_band_data.iterrows():\n",
    "            print(f\"Region: {row['market_regions']} Count: {row['counts']}\")\n",
    "    else:\n",
    "        print(f\"No data available for band: {user_band}\")\n",
    "\n",
    "get_band_regions()"
   ]
  },
  {
   "cell_type": "code",
   "execution_count": null,
   "id": "f93c1752-2347-45a2-b1ae-892e85cde9f9",
   "metadata": {
    "tags": []
   },
   "outputs": [],
   "source": [
    "def get_band_regions():\n",
    "    new_updated_data = data_file \n",
    "    # Split the 'supported_cellular_bands' into individual bands and create a new column\n",
    "    new_updated_data['individual_bands'] = new_updated_data['supported_cellular_bands'].str.split(',')\n",
    "\n",
    "    # Explode the list of bands into separate rows\n",
    "    new_updated_data = new_updated_data.explode('individual_bands')\n",
    "\n",
    "    # Use groupby to count the occurrences of each band in each region\n",
    "    band_counts = new_updated_data.groupby(['market_regions', 'individual_bands']).size().reset_index(name='counts')\n",
    "\n",
    "    # Now, you can find the top 5 regions for each band type\n",
    "    top_regions_by_band = band_counts.groupby('individual_bands').apply(lambda x: x.nlargest(5, 'counts'))\n",
    "\n",
    "    # Drop the 'individual_bands' column to avoid conflicts when resetting the index\n",
    "    top_regions_by_band = top_regions_by_band.drop(columns='individual_bands')\n",
    "\n",
    "    # Reset the index to avoid the ambiguity issue\n",
    "    top_regions_by_band = top_regions_by_band.reset_index()\n",
    "\n",
    "    # The result will be a DataFrame with the top 5 regions for each band type\n",
    "    for band, data in top_regions_by_band.groupby('individual_bands'):\n",
    "        print(f\"Band: {band}\")\n",
    "        for _, row in data.iterrows():\n",
    "            print(f\"Region: {row['market_regions']} Count: {row['counts']}\")\n",
    "        print()\n",
    "\n",
    "\n",
    "get_band_regions()\n"
   ]
  },
  {
   "cell_type": "code",
   "execution_count": null,
   "id": "b39714f4-1796-43d3-b68a-9aa52ebdbdc2",
   "metadata": {
    "tags": []
   },
   "outputs": [],
   "source": [
    "def calculate_average_price_for_band():\n",
    "    # Get a list of unique cellular bands in the dataset\n",
    "    unique_bands = new_updated_data['individual_bands'].unique()\n",
    "\n",
    "    # Create a dictionary to store average prices for each band\n",
    "    average_prices = {}\n",
    "\n",
    "    # Iterate through each band and calculate the average price\n",
    "    for band in unique_bands:\n",
    "        # Filter data for the specific band\n",
    "        band_data = new_updated_data[new_updated_data['individual_bands'] == band]\n",
    "\n",
    "        # Get a list of unique currencies for the specific band\n",
    "        unique_currencies = band_data['price_currency'].unique()\n",
    "\n",
    "        # Calculate the average price for each combination of currency and band\n",
    "        for currency in unique_currencies:\n",
    "            condition_data = band_data[band_data['price_currency'] == currency]\n",
    "            average_price = condition_data['price'].mean()\n",
    "            if band not in average_prices:\n",
    "                average_prices[band] = {}\n",
    "            average_prices[band][currency] = average_price\n",
    "\n",
    "    # Print the results\n",
    "    for band, band_data in average_prices.items():\n",
    "        print(f\"Band: {band}\")\n",
    "        for currency, average_price in band_data.items():\n",
    "            print(f\"Currency: {currency}, Average Price: {average_price:.2f}\")\n",
    "        print()\n",
    "calculate_average_price_for_band()"
   ]
  },
  {
   "cell_type": "code",
   "execution_count": 74,
   "id": "afeff9d3-3c90-4e16-9049-a7bce0928c6a",
   "metadata": {
    "tags": []
   },
   "outputs": [
    {
     "name": "stdin",
     "output_type": "stream",
     "text": [
      "Enter the cellular band you want to analyze:  GSM850\n"
     ]
    },
    {
     "name": "stdout",
     "output_type": "stream",
     "text": [
      "Average prices for devices within GSM850:\n",
      "Currency: USD, Average Price: 960.71\n",
      "Currency: JPY, Average Price: 132215.00\n",
      "Currency: MXN, Average Price: 10668.98\n",
      "Currency: BRL, Average Price: 2463.08\n",
      "Currency: EUR, Average Price: 904.46\n",
      "Currency: INR, Average Price: 51860.42\n",
      "Currency: GBP, Average Price: 703.43\n",
      "Currency: CNY, Average Price: 7528.87\n",
      "Currency: TWD, Average Price: 22779.19\n",
      "Currency: SGD, Average Price: 661.25\n",
      "Currency: IDR, Average Price: 7049000.00\n",
      "Currency: AED, Average Price: 984.12\n",
      "Currency: TRY, Average Price: 6999.00\n",
      "Currency: MYR, Average Price: 1974.00\n",
      "Currency: HKD, Average Price: 9225.45\n",
      "Currency: AUD, Average Price: 961.09\n",
      "Currency: CAD, Average Price: 1486.28\n",
      "Currency: KRW, Average Price: 1202600.00\n",
      "Currency: CHF, Average Price: 249.99\n",
      "Currency: ARS, Average Price: 75999.00\n",
      "Currency: KZT, Average Price: 810704.29\n",
      "Currency: HUF, Average Price: 101946.67\n",
      "Currency: PLN, Average Price: 1724.00\n",
      "Currency: RUB, Average Price: 103925.88\n"
     ]
    }
   ],
   "source": [
    "# user interface\n",
    "def calculate_average_price_for_band(): \n",
    "    # Get a list of unique cellular bands in the dataset\n",
    "    unique_bands = new_updated_data['individual_bands'].unique()\n",
    "\n",
    "    # Prompt the user to input the band they want to analyze\n",
    "    selected_band = input(\"Enter the cellular band you want to analyze: \")\n",
    "\n",
    "    if selected_band in unique_bands:\n",
    "        # Filter data for the selected band\n",
    "        band_data = new_updated_data[new_updated_data['individual_bands'] == selected_band]\n",
    "\n",
    "        # Get a list of unique currencies for the selected band\n",
    "        unique_currencies = band_data['price_currency'].unique()\n",
    "\n",
    "        # Create a dictionary to store average prices for each currency\n",
    "        average_prices = {}\n",
    "\n",
    "        # Calculate the average price for each combination of currency and band\n",
    "        for currency in unique_currencies:\n",
    "            condition_data = band_data[band_data['price_currency'] == currency]\n",
    "            average_price = condition_data['price'].mean()\n",
    "            average_prices[currency] = average_price\n",
    "\n",
    "        # Print the result for the selected band\n",
    "        print(f\"Average prices for devices within {selected_band}:\")\n",
    "        for currency, average_price in average_prices.items():\n",
    "            print(f\"Currency: {currency}, Average Price: {average_price:.2f}\")\n",
    "    else:\n",
    "        print(\"The selected band is not in the dataset.\")\n",
    "calculate_average_price_for_band()"
   ]
  },
  {
   "cell_type": "code",
   "execution_count": 75,
   "id": "1deffb4d-bc9c-4319-a17f-74263b29a118",
   "metadata": {},
   "outputs": [
    {
     "name": "stdout",
     "output_type": "stream",
     "text": [
      "                        manufacturer  weight_gram\n",
      "0                   ASUSTeK Computer       221.37\n",
      "1                    BBK Electronics       201.00\n",
      "2          FIH Precision Electronics       203.75\n",
      "3                            Foxconn       315.15\n",
      "4                  Hon Hai Precision       144.00\n",
      "5                     LG Electronics       204.08\n",
      "6                             Lenovo       216.98\n",
      "7                     Luxshare iTech        31.60\n",
      "8                          Microsoft       284.00\n",
      "9          Rising Stars Mobile India       196.50\n",
      "10               Samsung Electronics       205.64\n",
      "11                             Sharp       209.50\n",
      "12  Shenzhen TINNO Mobile Technology       198.84\n",
      "13                              Sony       189.36\n",
      "14                   Wingtech Mobile       204.50\n",
      "15                            Xiaomi       190.55\n",
      "16                               ZTE       195.50\n",
      "No more rows available.\n"
     ]
    }
   ],
   "source": [
    "# Analyse the average mass for each manufacturer and display the list of average mass for all manufacturers.\n",
    "# Group the data by 'manufacturer' and sum the occurrences of all the weight_gram for each manufacturers\n",
    "def average_mass_brand():\n",
    "    manufact_avg_mass = data_file.groupby('manufacturer')['weight_gram'].mean().round(2).reset_index()\n",
    "\n",
    "    if not manufact_avg_mass.empty:\n",
    "        num_rows = 20\n",
    "        start_pos = 0\n",
    "        end_pos = min(start_pos + num_rows, len(manufact_avg_mass))\n",
    "\n",
    "        while True:\n",
    "            # Display the current set of rows\n",
    "            print(manufact_avg_mass.iloc[start_pos:end_pos])\n",
    "\n",
    "            if end_pos >= len(manufact_avg_mass):\n",
    "                print(\"No more rows available.\")\n",
    "                break\n",
    "\n",
    "            user_input = input(\"Enter 'next' to retrieve the next 20 rows, or 'quit' to exit: \")\n",
    "            if user_input == 'next':\n",
    "                start_pos += num_rows\n",
    "                end_pos = min(start_pos + num_rows, len(manufact_avg_mass))\n",
    "            elif user_input == 'quit':\n",
    "                break\n",
    "average_mass_brand()"
   ]
  },
  {
   "cell_type": "code",
   "execution_count": null,
   "id": "9c1f8e87-ba05-4342-85b6-31467c761b87",
   "metadata": {},
   "outputs": [],
   "source": []
  }
 ],
 "metadata": {
  "kernelspec": {
   "display_name": "COM728",
   "language": "python",
   "name": "com728"
  },
  "language_info": {
   "codemirror_mode": {
    "name": "ipython",
    "version": 3
   },
   "file_extension": ".py",
   "mimetype": "text/x-python",
   "name": "python",
   "nbconvert_exporter": "python",
   "pygments_lexer": "ipython3",
   "version": "3.10.13"
  }
 },
 "nbformat": 4,
 "nbformat_minor": 5
}
