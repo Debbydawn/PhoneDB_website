{
 "cells": [
  {
   "cell_type": "code",
   "execution_count": 4,
   "id": "77a423ba-a935-4e0c-b06e-66bae14bff04",
   "metadata": {
    "tags": []
   },
   "outputs": [
    {
     "name": "stdin",
     "output_type": "stream",
     "text": [
      "Enter the file location:  device_features.csv\n"
     ]
    },
    {
     "name": "stdout",
     "output_type": "stream",
     "text": [
      "\n",
      "Fetching data...\n",
      "Successfully loaded the device_features.csv dataset.\n",
      "\n",
      "Fetching data...\n",
      "Successfully loaded the device_features.csv pandas dataset.\n"
     ]
    }
   ],
   "source": [
    "# import csv\n",
    "import pandas as pd\n",
    "from Loading_dataset import load_pd_file\n",
    "# file_location = input(\"Enter file location: \")\n"
   ]
  },
  {
   "cell_type": "code",
   "execution_count": 8,
   "id": "db18b5c3-864a-4c76-87dc-55fb17408c80",
   "metadata": {
    "tags": []
   },
   "outputs": [
    {
     "name": "stdout",
     "output_type": "stream",
     "text": [
      "\n",
      "Fetching data...\n",
      "Successfully loaded the device_features.csv dataset.\n"
     ]
    }
   ],
   "source": [
    "file_location = \"device_features.csv\"\n",
    "data_file = pd.read_csv(file_location)\n",
    "print(f\"\\nFetching data...\\nSuccessfully loaded the {file_location} dataset.\")\n",
    "# print(data_file.head)"
   ]
  },
  {
   "cell_type": "code",
   "execution_count": 12,
   "id": "ded6dac8-e916-475f-8db7-2a649de23c3d",
   "metadata": {
    "tags": []
   },
   "outputs": [],
   "source": [
    "# def get_regions_brand():\n",
    "#     # Select the 'brand' and 'market_regions' columns\n",
    "#     region_brand = data_file[['brand', 'market_regions']]\n",
    "#     # Group the data by 'brand' and count the occurrences of each 'market_regions'\n",
    "#     brand_region_counts = data_file.groupby(['brand', 'market_regions']).size().reset_index(name='count')\n",
    "\n",
    "#     # Sort the data by 'brand' and the count of 'market_regions' in descending order\n",
    "#     brand_region_counts.sort_values(['brand', 'count'], ascending=[True, False], inplace=True)\n",
    "\n",
    "#     # Create a new DataFrame to store the top 5 regions for each brand\n",
    "#     top_5_regions_by_brand = brand_region_counts.groupby('brand').head(5)\n",
    "\n",
    "#     # Display only the top 5 regions for each brand\n",
    "#     print(top_5_regions_by_brand.head(5))\n",
    "# get_regions_brand()"
   ]
  },
  {
   "cell_type": "code",
   "execution_count": 11,
   "id": "812b3bd7-960e-48b8-8222-b31f5cde6c33",
   "metadata": {
    "tags": []
   },
   "outputs": [
    {
     "name": "stdout",
     "output_type": "stream",
     "text": [
      "Brand: Apple\n",
      "Region: Africa,Asia,Australia,Central America,Eastern Europe,Europe,Middle East,North America,Oceania,South America,Southeast Asia,Western Europe,Worldwide Count: 102\n",
      "Region: North America Count: 56\n",
      "Region: Asia Count: 48\n",
      "Region: Asia,Southeast Asia Count: 32\n",
      "Region: Asia,Eastern Europe,Europe Count: 28\n",
      "\n",
      "Brand: Asus\n",
      "Region: Asia Count: 7\n",
      "Region: Asia,Australia,Eastern Europe,Europe,Middle East,Southeast Asia,Western Europe Count: 7\n",
      "Region: Africa,Asia,Australia,Eastern Europe,Europe,Middle East,North America,Oceania,South America,Southeast Asia,Western Europe Count: 5\n",
      "Region: Africa,Asia,Australia,Eastern Europe,Europe,North America,South America,Southeast Asia,Western Europe Count: 4\n",
      "Region: Asia,Australia,Eastern Europe,Europe,North America,Southeast Asia,Western Europe Count: 4\n",
      "\n",
      "Brand: BBK\n",
      "Region: Asia Count: 3\n",
      "\n",
      "Brand: LG\n",
      "Region: North America Count: 4\n",
      "\n",
      "Brand: Lenovo\n",
      "Region: Asia Count: 17\n",
      "Region: Africa,Asia,Eastern Europe,Europe,Middle East,North America,Southeast Asia,Western Europe Count: 2\n",
      "Region: Africa,Asia,Eastern Europe,Europe,Middle East,South America,Southeast Asia,Western Europe Count: 2\n",
      "Region: Africa,Asia,Australia,Eastern Europe,Europe,North America,Western Europe Count: 1\n",
      "Region: Africa,Asia,Eastern Europe,Europe,North America,Southeast Asia,Western Europe Count: 1\n",
      "\n",
      "Brand: Microsoft\n",
      "Region: North America Count: 2\n",
      "Region: Asia,Australia,Europe,North America,Western Europe Count: 1\n",
      "\n",
      "Brand: Motorola\n",
      "Region: Asia Count: 21\n",
      "Region: North America Count: 21\n",
      "Region: North America,South America Count: 16\n",
      "Region: South America Count: 11\n",
      "Region: Asia,Eastern Europe,Europe,Western Europe Count: 7\n",
      "\n",
      "Brand: Nokia\n",
      "Region: North America Count: 12\n",
      "Region: Asia,Australia,Eastern Europe,Europe,Middle East,Western Europe Count: 3\n",
      "Region: Asia,Eastern Europe,Europe,Middle East,Western Europe Count: 3\n",
      "Region: Asia Count: 2\n",
      "Region: Eastern Europe,Europe,Middle East,Western Europe Count: 2\n",
      "\n",
      "Brand: Samsung\n",
      "Region: North America Count: 275\n",
      "Region: Asia Count: 101\n",
      "Region: Asia,Southeast Asia Count: 52\n",
      "Region: Africa,Asia,Australia,Central America,Eastern Europe,Europe,Middle East,North America,Oceania,South America,Southeast Asia,Western Europe,Worldwide Count: 11\n",
      "Region: North America,South America Count: 9\n",
      "\n",
      "Brand: Sharp\n",
      "Region: Asia Count: 2\n",
      "\n",
      "Brand: Sony\n",
      "Region: Asia,Eastern Europe,Europe,Middle East,Western Europe Count: 3\n",
      "Region: Asia Count: 2\n",
      "Region: Asia,Eastern Europe,Europe,Southeast Asia Count: 2\n",
      "Region: Asia,Australia,Middle East,Oceania,Southeast Asia Count: 1\n",
      "Region: Asia,Eastern Europe,Europe,Middle East,Southeast Asia Count: 1\n",
      "\n",
      "Brand: T-Mobile\n",
      "Region: North America Count: 2\n",
      "\n",
      "Brand: Xiaomi\n",
      "Region: Asia Count: 41\n",
      "Region: Asia,Eastern Europe,Europe,Middle East,Southeast Asia,Western Europe Count: 4\n",
      "Region: Africa,Asia,Eastern Europe,Europe,Middle East,North America,Southeast Asia,Western Europe Count: 2\n",
      "Region: Asia,Southeast Asia Count: 2\n",
      "Region: Africa,Asia,Eastern Europe,Europe,Middle East,Southeast Asia,Western Europe Count: 1\n",
      "\n",
      "Brand: ZTE\n",
      "Region: Asia Count: 3\n",
      "Region: Africa,Asia,Eastern Europe,Europe,Middle East,North America,Southeast Asia,Western Europe Count: 1\n",
      "\n"
     ]
    }
   ],
   "source": [
    "def get_regions_brand():\n",
    "    # Select the 'brand' and 'market_regions' columns\n",
    "    region_brand = data_file[['brand', 'market_regions']]\n",
    "    # Group the data by 'brand' and count the occurrences of each 'market_regions' and also counting\n",
    "    brand_region_counts = data_file.groupby(['brand', 'market_regions']).size().reset_index(name='count')\n",
    "\n",
    "    # Sort the data by 'brand' and the count of 'market_regions' in descending order\n",
    "    brand_region_counts.sort_values(['brand', 'count'], ascending=[True, False], inplace=True)\n",
    "\n",
    "    # Create a new DataFrame to store the top 5 regions for each brand\n",
    "    top_5_regions_by_brand = brand_region_counts.groupby('brand').head(5)\n",
    "    # Display only the top 5 regions for each brand\n",
    "    for brand, data in top_5_regions_by_brand.groupby('brand'):\n",
    "        print(f\"Brand: {brand}\")\n",
    "        for _, row in data.iterrows():\n",
    "            print(f\"Region: {row['market_regions']} Count: {row['count']}\")\n",
    "        print()\n",
    "get_regions_brand()"
   ]
  },
  {
   "cell_type": "code",
   "execution_count": 13,
   "id": "1bb7b12b-98ef-4598-913b-591a8ccc54bb",
   "metadata": {
    "tags": []
   },
   "outputs": [
    {
     "name": "stdout",
     "output_type": "stream",
     "text": [
      "brand  price_currency\n",
      "Apple  AUD                  1399.00\n",
      "       CAD                  1545.32\n",
      "       CNY                  8921.37\n",
      "       EUR                  1494.54\n",
      "       GBP                   810.48\n",
      "       JPY                127930.43\n",
      "       KZT                810704.29\n",
      "       MXN                 31499.00\n",
      "       RUB                111418.57\n",
      "       TWD                 16300.00\n",
      "       USD                   986.19\n",
      "Asus   BRL                  8249.00\n",
      "       CAD                  1499.00\n",
      "       CNY                  5874.00\n",
      "       EUR                   956.08\n",
      "       GBP                   849.99\n",
      "       IDR               7999000.00\n",
      "       INR                 63999.00\n",
      "       JPY                137300.00\n",
      "       SGD                   999.00\n",
      "Name: price, dtype: float64\n"
     ]
    },
    {
     "name": "stdin",
     "output_type": "stream",
     "text": [
      "Enter 'next' to retrieve the next 20 rows, or 'quit' to exit:  quit\n"
     ]
    }
   ],
   "source": [
    "def average_price_brand():\n",
    "    # Average price based on location\n",
    "    average_price = data_file.groupby(['brand','price_currency'])['price'].mean().round(2)\n",
    "\n",
    "\n",
    "    if not average_price.empty:\n",
    "        num_rows = 20\n",
    "        start_pos = 0\n",
    "        end_pos = min(start_pos + num_rows, len(average_price))\n",
    "\n",
    "        while True:\n",
    "            # Display the current set of rows\n",
    "            print(average_price.iloc[start_pos:end_pos])\n",
    "\n",
    "            if end_pos >= len(average_price):\n",
    "                print(\"No more rows available.\")\n",
    "                break\n",
    "\n",
    "            user_input = input(\"Enter 'next' to retrieve the next 20 rows, or 'quit' to exit: \")\n",
    "            if user_input == 'next':\n",
    "                start_pos += num_rows\n",
    "                end_pos = min(start_pos + num_rows, len(average_price))\n",
    "            elif user_input == 'quit':\n",
    "                break\n",
    "average_price_brand()               "
   ]
  },
  {
   "cell_type": "code",
   "execution_count": 7,
   "id": "caa3be3d-e95a-4ff2-b49f-9ef555cb1056",
   "metadata": {
    "tags": []
   },
   "outputs": [
    {
     "name": "stdout",
     "output_type": "stream",
     "text": [
      "    brand price_currency       price\n",
      "0   Apple            AUD     1399.00\n",
      "1   Apple            CAD     1545.32\n",
      "2   Apple            CNY     8921.37\n",
      "3   Apple            EUR     1494.54\n",
      "4   Apple            GBP      810.48\n",
      "5   Apple            JPY   127930.43\n",
      "6   Apple            KZT   810704.29\n",
      "7   Apple            MXN    31499.00\n",
      "8   Apple            RUB   111418.57\n",
      "9   Apple            TWD    16300.00\n",
      "10  Apple            USD      986.19\n",
      "11   Asus            BRL     8249.00\n",
      "12   Asus            CAD     1499.00\n",
      "13   Asus            CNY     5874.00\n",
      "14   Asus            EUR      956.08\n",
      "15   Asus            GBP      849.99\n",
      "16   Asus            IDR  7999000.00\n",
      "17   Asus            INR    63999.00\n",
      "18   Asus            JPY   137300.00\n",
      "19   Asus            SGD      999.00\n"
     ]
    },
    {
     "name": "stdin",
     "output_type": "stream",
     "text": [
      "Enter 'next' to retrieve the next 20 rows, or 'quit' to exit:  quit\n"
     ]
    }
   ],
   "source": [
    "# Assuming you have a DataFrame 'data_file' with 'brand', 'price', and 'price_currency' columns\n",
    "\n",
    "# Group the data by 'brand' and 'price_currency' and calculate the average price for each combination\n",
    "brand_avg_prices = data_file.groupby(['brand', 'price_currency'])['price'].mean().round(2).reset_index()\n",
    "\n",
    "if not brand_avg_prices.empty:\n",
    "    num_rows = 20\n",
    "    start_pos = 0\n",
    "    end_pos = min(start_pos + num_rows, len(brand_avg_prices))\n",
    "\n",
    "    while True:\n",
    "        # Display the current set of rows\n",
    "        print(brand_avg_prices.iloc[start_pos:end_pos])\n",
    "\n",
    "        if end_pos >= len(brand_avg_prices):\n",
    "            print(\"No more rows available.\")\n",
    "            break\n",
    "\n",
    "        user_input = input(\"Enter 'next' to retrieve the next 20 rows, or 'quit' to exit: \")\n",
    "        if user_input == 'next':\n",
    "            start_pos += num_rows\n",
    "            end_pos = min(start_pos + num_rows, len(brand_avg_prices))\n",
    "        elif user_input == 'quit':\n",
    "            break\n"
   ]
  },
  {
   "cell_type": "code",
   "execution_count": 19,
   "id": "1deffb4d-bc9c-4319-a17f-74263b29a118",
   "metadata": {},
   "outputs": [
    {
     "name": "stdout",
     "output_type": "stream",
     "text": [
      "manufacturer\n",
      "ASUSTeK Computer                    221.37\n",
      "BBK Electronics                     201.00\n",
      "FIH Precision Electronics           203.75\n",
      "Foxconn                             315.15\n",
      "Hon Hai Precision                   144.00\n",
      "LG Electronics                      204.08\n",
      "Lenovo                              216.98\n",
      "Luxshare iTech                       31.60\n",
      "Microsoft                           284.00\n",
      "Rising Stars Mobile India           196.50\n",
      "Samsung Electronics                 205.64\n",
      "Sharp                               209.50\n",
      "Shenzhen TINNO Mobile Technology    198.84\n",
      "Sony                                189.36\n",
      "Wingtech Mobile                     204.50\n",
      "Xiaomi                              190.55\n",
      "ZTE                                 195.50\n",
      "Name: weight_gram, dtype: float64\n",
      "No more rows available.\n"
     ]
    }
   ],
   "source": [
    "# Analyse the average mass for each manufacturer and display the list of average mass for all manufacturers.\n",
    "# Group the data by 'manufacturer' and sum the occurrences of all the weight_gram for each manufacturers\n",
    "def average_mass_brand():\n",
    "    manufact_avg_mass = data_file.groupby('manufacturer')['weight_gram'].mean().round(2)\n",
    "\n",
    "    if not manufact_avg_mass.empty:\n",
    "        num_rows = 20\n",
    "        start_pos = 0\n",
    "        end_pos = min(start_pos + num_rows, len(manufact_avg_mass))\n",
    "\n",
    "        while True:\n",
    "            # Display the current set of rows\n",
    "            print(manufact_avg_mass.iloc[start_pos:end_pos])\n",
    "\n",
    "            if end_pos >= len(manufact_avg_mass):\n",
    "                print(\"No more rows available.\")\n",
    "                break\n",
    "\n",
    "            user_input = input(\"Enter 'next' to retrieve the next 20 rows, or 'quit' to exit: \")\n",
    "            if user_input == 'next':\n",
    "                start_pos += num_rows\n",
    "                end_pos = min(start_pos + num_rows, len(manufact_avg_mass))\n",
    "            elif user_input == 'quit':\n",
    "                break\n",
    "average_mass_brand()"
   ]
  },
  {
   "cell_type": "code",
   "execution_count": null,
   "id": "9c1f8e87-ba05-4342-85b6-31467c761b87",
   "metadata": {},
   "outputs": [],
   "source": []
  }
 ],
 "metadata": {
  "kernelspec": {
   "display_name": "COM728",
   "language": "python",
   "name": "com728"
  },
  "language_info": {
   "codemirror_mode": {
    "name": "ipython",
    "version": 3
   },
   "file_extension": ".py",
   "mimetype": "text/x-python",
   "name": "python",
   "nbconvert_exporter": "python",
   "pygments_lexer": "ipython3",
   "version": "3.10.13"
  }
 },
 "nbformat": 4,
 "nbformat_minor": 5
}
