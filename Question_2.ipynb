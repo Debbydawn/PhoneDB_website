{
 "cells": [
  {
   "cell_type": "code",
   "execution_count": 1,
   "id": "77a423ba-a935-4e0c-b06e-66bae14bff04",
   "metadata": {
    "tags": []
   },
   "outputs": [
    {
     "name": "stdin",
     "output_type": "stream",
     "text": [
      "Enter the file location:  device_features.csv\n"
     ]
    },
    {
     "name": "stdout",
     "output_type": "stream",
     "text": [
      "\n",
      "Fetching data...\n",
      "Successfully loaded the device_features.csv dataset.\n",
      "\n",
      "Fetching data...\n",
      "Successfully loaded the device_features.csv pandas dataset.\n"
     ]
    }
   ],
   "source": [
    "# import csv\n",
    "import pandas as pd\n",
    "from Loading_dataset import load_pd_file\n",
    "# file_location = input(\"Enter file location: \")\n"
   ]
  },
  {
   "cell_type": "code",
   "execution_count": 2,
   "id": "db18b5c3-864a-4c76-87dc-55fb17408c80",
   "metadata": {
    "tags": []
   },
   "outputs": [
    {
     "name": "stdout",
     "output_type": "stream",
     "text": [
      "\n",
      "Fetching data...\n",
      "Successfully loaded the device_features.csv dataset.\n"
     ]
    }
   ],
   "source": [
    "file_location = \"device_features.csv\"\n",
    "data_file = pd.read_csv(file_location)\n",
    "print(f\"\\nFetching data...\\nSuccessfully loaded the {file_location} dataset.\")\n",
    "# print(data_file.head)"
   ]
  },
  {
   "cell_type": "code",
   "execution_count": 42,
   "id": "be228af1-cb51-4bc3-9a41-fa865f3ddaec",
   "metadata": {
    "tags": []
   },
   "outputs": [
    {
     "name": "stdout",
     "output_type": "stream",
     "text": [
      "Available device brand names in this dataset:\n",
      "Samsung, Motorola, Xiaomi, Nokia, Sony, Asus, Lenovo, T-Mobile, BBK, Apple, ZTE, Microsoft, LG, Sharp\n"
     ]
    },
    {
     "name": "stdin",
     "output_type": "stream",
     "text": [
      "Enter the brand you want to see (or 'quit' to exit):  xiaomi\n"
     ]
    },
    {
     "name": "stdout",
     "output_type": "stream",
     "text": [
      "Top regions for brand: xiaomi\n",
      "Region: Asia - Count: 41\n",
      "Region: Asia,Eastern Europe,Europe,Middle East,Southeast Asia,Western Europe - Count: 4\n",
      "Region: Africa,Asia,Eastern Europe,Europe,Middle East,North America,Southeast Asia,Western Europe - Count: 2\n",
      "Region: Asia,Southeast Asia - Count: 2\n",
      "Region: Africa,Asia,Eastern Europe,Europe,Middle East,Southeast Asia,Western Europe - Count: 1\n",
      "Available device brand names in this dataset:\n",
      "Samsung, Motorola, Xiaomi, Nokia, Sony, Asus, Lenovo, T-Mobile, BBK, Apple, ZTE, Microsoft, LG, Sharp\n"
     ]
    },
    {
     "name": "stdin",
     "output_type": "stream",
     "text": [
      "Enter the brand you want to see (or 'quit' to exit):  exit\n"
     ]
    },
    {
     "name": "stdout",
     "output_type": "stream",
     "text": [
      "No data available for brand: exit\n",
      "Available device brand names in this dataset:\n",
      "Samsung, Motorola, Xiaomi, Nokia, Sony, Asus, Lenovo, T-Mobile, BBK, Apple, ZTE, Microsoft, LG, Sharp\n"
     ]
    },
    {
     "name": "stdin",
     "output_type": "stream",
     "text": [
      "Enter the brand you want to see (or 'quit' to exit):  quit\n"
     ]
    }
   ],
   "source": [
    "def get_brand_regions():\n",
    "    # Group data to find the top regions for each brand\n",
    "    brand_counts = data_file.groupby(['market_regions', 'brand']).size().reset_index(name='counts')\n",
    "    top_regions_by_brand = brand_counts.groupby('brand').apply(lambda x: x.nlargest(5, 'counts'))\n",
    "    top_regions_by_brand = top_regions_by_brand.drop(columns='brand').reset_index()\n",
    "\n",
    "    while True:\n",
    "        try:\n",
    "            brand_names = \", \".join(data_file['brand'].unique())\n",
    "            print(f\"Available device brand names in this dataset:\\n{brand_names}\")\n",
    "\n",
    "            user_brand = input(\"Enter the brand you want to see (or 'quit' to exit): \").strip().lower()\n",
    "\n",
    "            if user_brand == 'quit':\n",
    "                break  # Exit the loop if the user wants to quit\n",
    "\n",
    "            user_brand_data = top_regions_by_brand[top_regions_by_brand['brand'].str.lower() == user_brand]\n",
    "\n",
    "            if not user_brand_data.empty:\n",
    "                print(f\"Top regions for brand: {user_brand}\")\n",
    "                for _, row in user_brand_data.iterrows():\n",
    "                    print(f\"Region: {row['market_regions']} - Count: {row['counts']}\")\n",
    "            else:\n",
    "                print(f\"No data available for brand: {user_brand}\")\n",
    "        except Exception as e:\n",
    "            print(f\"An error occurred: {e}. Please try again.\")\n",
    "\n",
    "# Call the function to get top regions for a brand\n",
    "get_brand_regions()\n"
   ]
  },
  {
   "cell_type": "code",
   "execution_count": 6,
   "id": "e76180f8-4325-426b-b805-3c6168cb7bbf",
   "metadata": {
    "tags": []
   },
   "outputs": [
    {
     "name": "stdout",
     "output_type": "stream",
     "text": [
      "The device brand names in this dataset are:\n",
      " Samsung, Motorola, Xiaomi, Nokia, Sony, Asus, Lenovo, T-Mobile, BBK, Apple, ZTE, Microsoft, LG, Sharp\n"
     ]
    },
    {
     "name": "stdin",
     "output_type": "stream",
     "text": [
      "Enter the brand (or 'all' for all brands):  lg\n"
     ]
    },
    {
     "name": "stdout",
     "output_type": "stream",
     "text": [
      "These are the currencies you can choose from: \n",
      " USD, JPY, MXN, BRL, EUR, INR, GBP, CNY, TWD, THB, CAD, SGD, IDR, AED, TRY, MYR, HKD, AUD, KRW, CHF, ARS, KZT, HUF, PLN, RUB\n"
     ]
    },
    {
     "name": "stdin",
     "output_type": "stream",
     "text": [
      "Enter the currency (or 'all' for all currencies):  usd\n"
     ]
    },
    {
     "name": "stdout",
     "output_type": "stream",
     "text": [
      "  brand price_currency  price\n",
      "0    LG            USD  187.5\n",
      "No more rows available.\n"
     ]
    },
    {
     "name": "stdin",
     "output_type": "stream",
     "text": [
      "Would you like to calculate for another brand/currency (yes/no)?  no\n"
     ]
    }
   ],
   "source": [
    "def get_valid_input(prompt, valid_options):\n",
    "    display_options = [option.capitalize() for option in valid_options]\n",
    "    \n",
    "    while True:\n",
    "        user_input = input(prompt).strip().lower()\n",
    "        if user_input in valid_options:\n",
    "            return user_input\n",
    "        print(f\"Invalid input. Please choose from the following options: {', '.join(display_options)}\")\n",
    "\n",
    "\n",
    "\n",
    "# Modify get_valid_input function as shown above\n",
    "\n",
    "def calculate_average_price_for_brand():\n",
    "    while True:\n",
    "        try:\n",
    "            # Get user input for the brand\n",
    "            brand_name = \", \".join(data_file['brand'].unique())\n",
    "            print(f\"The device brand names in this dataset are:\\n {brand_name}\")\n",
    "            brand_input = get_valid_input(\"Enter the brand (or 'all' for all brands): \", data_file['brand'].str.lower().unique())\n",
    "\n",
    "            # Get user input for the currency\n",
    "            currency = \", \".join(data_file['price_currency'].unique())\n",
    "            print(f\"These are the currencies you can choose from: \\n {currency}\")\n",
    "            currency_input = get_valid_input(\"Enter the currency (or 'all' for all currencies): \", data_file['price_currency'].str.lower().unique())\n",
    "\n",
    "            # Filter the data based on user input\n",
    "            filtered_data = data_file.copy()  # Create a copy of the original data to avoid modifying it\n",
    "\n",
    "            if brand_input != 'all':\n",
    "                filtered_data = filtered_data[filtered_data['brand'].str.lower() == brand_input]\n",
    "\n",
    "            if currency_input != 'all':\n",
    "                filtered_data = filtered_data[filtered_data['price_currency'].str.lower() == currency_input]\n",
    "\n",
    "            if filtered_data.empty:\n",
    "                print(f\"No data found for brand: '{brand_input}' and currency: '{currency_input}'\")\n",
    "            else:\n",
    "                # Group the filtered data by 'brand' and 'price_currency' and calculate the average price for each combination\n",
    "                brand_avg_prices = filtered_data.groupby(['brand', 'price_currency'])['price'].mean().round(2).reset_index()\n",
    "\n",
    "                if not brand_avg_prices.empty:\n",
    "                    num_rows = 20\n",
    "                    start_pos = 0\n",
    "                    end_pos = min(start_pos + num_rows, len(brand_avg_prices))\n",
    "\n",
    "                    while True:\n",
    "                        # Display the current set of rows\n",
    "                        print(brand_avg_prices.iloc[start_pos:end_pos])\n",
    "\n",
    "                        if end_pos >= len(brand_avg_prices):\n",
    "                            print(\"No more rows available.\")\n",
    "                            break\n",
    "\n",
    "                        user_input = input(\"Enter 'next' to retrieve the next 20 rows, or 'quit' to exit: \").strip().lower()\n",
    "                        if user_input == 'next':\n",
    "                            start_pos += num_rows\n",
    "                            end_pos = min(start_pos + num_rows, len(brand_avg_prices))\n",
    "                        elif user_input == 'quit':\n",
    "                            break\n",
    "\n",
    "            retry = get_valid_input(\"Would you like to calculate for another brand/currency (yes/no)? \", ['yes', 'no'])\n",
    "            if retry != 'yes':\n",
    "                break\n",
    "        except Exception as e:\n",
    "            print(f\"An error occurred: {e}. Please try again.\")\n",
    "\n",
    "# Call the function to calculate average prices for a brand\n",
    "calculate_average_price_for_brand()\n"
   ]
  },
  {
   "cell_type": "code",
   "execution_count": 7,
   "id": "1deffb4d-bc9c-4319-a17f-74263b29a118",
   "metadata": {},
   "outputs": [
    {
     "name": "stdout",
     "output_type": "stream",
     "text": [
      "\u001b[1mAverage Mass by Brand\u001b[0m\n",
      "                        manufacturer  weight_gram\n",
      "0                   ASUSTeK Computer       221.37\n",
      "1                    BBK Electronics       201.00\n",
      "2          FIH Precision Electronics       203.75\n",
      "3                            Foxconn       315.15\n",
      "4                  Hon Hai Precision       144.00\n",
      "5                     LG Electronics       204.08\n",
      "6                             Lenovo       216.98\n",
      "7                     Luxshare iTech        31.60\n",
      "8                          Microsoft       284.00\n",
      "9          Rising Stars Mobile India       196.50\n",
      "10               Samsung Electronics       205.64\n",
      "11                             Sharp       209.50\n",
      "12  Shenzhen TINNO Mobile Technology       198.84\n",
      "13                              Sony       189.36\n",
      "14                   Wingtech Mobile       204.50\n",
      "15                            Xiaomi       190.55\n",
      "16                               ZTE       195.50\n",
      "\n",
      "No more rows available.\n"
     ]
    }
   ],
   "source": [
    "def average_mass_brand():\n",
    "    try:\n",
    "        # Group the data by 'manufacturer' and calculate the average 'weight_gram'\n",
    "        manufact_avg_mass = data_file.groupby('manufacturer')['weight_gram'].mean().round(2).reset_index()\n",
    "\n",
    "        if not manufact_avg_mass.empty:\n",
    "            num_rows = 20\n",
    "            start_pos = 0\n",
    "            end_pos = min(start_pos + num_rows, len(manufact_avg_mass))\n",
    "\n",
    "            while True:\n",
    "                # Display the current set of rows\n",
    "                print(\"\\033[1mAverage Mass by Brand\\033[0m\")\n",
    "                print(manufact_avg_mass.iloc[start_pos:end_pos])\n",
    "\n",
    "                if end_pos >= len(manufact_avg_mass):\n",
    "                    print(\"\\nNo more rows available.\")\n",
    "                    break\n",
    "\n",
    "                user_input = input(\"\\nEnter 'next' to view the next 20 rows or 'quit' to exit: \").strip().lower()\n",
    "                if user_input == 'next':\n",
    "                    start_pos += num_rows\n",
    "                    end_pos = min(start_pos + num_rows, len(manufact_avg_mass))\n",
    "                elif user_input == 'quit':\n",
    "                    break\n",
    "                else:\n",
    "                    print(\"\\nInvalid input. Please enter 'next' or 'quit'.\")\n",
    "        else:\n",
    "            print(\"\\nNo data available for average mass by brand.\")\n",
    "    except Exception as e:\n",
    "        print(f\"\\nAn error occurred: {e}. Please try again.\")\n",
    "\n",
    "# Call the function to calculate average mass by brand\n",
    "average_mass_brand()\n"
   ]
  },
  {
   "cell_type": "code",
   "execution_count": 40,
   "id": "5093665a-bc3b-4a9d-8b4d-8669f88d4997",
   "metadata": {
    "tags": []
   },
   "outputs": [
    {
     "name": "stdout",
     "output_type": "stream",
     "text": [
      "Available device brand names in this dataset:\n",
      "Samsung, Motorola, Xiaomi, Nokia, Sony, Asus, Lenovo, T-Mobile, BBK, Apple, ZTE, Microsoft, LG, Sharp\n"
     ]
    },
    {
     "name": "stdin",
     "output_type": "stream",
     "text": [
      "Enter the brand to find the top 5 cheapest prices (or enter 'exit' to quit):  samsung\n"
     ]
    },
    {
     "name": "stdout",
     "output_type": "stream",
     "text": [
      "Top 5 cheapest prices for brand: samsung\n",
      "OEM ID: F711BZEBEUB - Price: 109.0\n",
      "OEM ID: A025VZKAVZW - Price: 149.99\n",
      "OEM ID: A047FZKUEUB - Price: 159.0\n",
      "OEM ID: M127FZGVEUE - Price: 159.0\n",
      "OEM ID: A025UZKAUSC - Price: 159.99\n",
      "\n",
      "Now, you can enter the OEM ID of one of these devices to check for recommendations based on the price-performance ratio.\n"
     ]
    },
    {
     "name": "stdin",
     "output_type": "stream",
     "text": [
      "Enter the OEM ID (or 'exit' to return to brand selection):  F711BZEBEUB\n"
     ]
    },
    {
     "name": "stdout",
     "output_type": "stream",
     "text": [
      "\n",
      "For this Samsung brand and OEM ID of F711BZEBEUB with a price of 109.0:\n",
      "The Performance score of the device is 1164.80\n",
      "The higher the number (up to 1547.60) the better the performance of the device.\n",
      "The lower the number (down to 728.60) the less the performance of the device.\n",
      "---------------------------------------------------------------------------------------------------------------------\n",
      "The Price Performance Ratio for the device is 10.69\n",
      "The higher the number (up to 10.69) the better the performance relative to the price.\n",
      "The closer it is to (down to 0.00), the less the performance of the device for its price.\n",
      "This is a good buy! It offers great performance for its price.\n",
      "\n",
      "Now, you can enter the OEM ID of one of these devices to check for recommendations based on the price-performance ratio.\n"
     ]
    },
    {
     "name": "stdin",
     "output_type": "stream",
     "text": [
      "Enter the OEM ID (or 'exit' to return to brand selection):  exit\n"
     ]
    },
    {
     "name": "stdout",
     "output_type": "stream",
     "text": [
      "Available device brand names in this dataset:\n",
      "Samsung, Motorola, Xiaomi, Nokia, Sony, Asus, Lenovo, T-Mobile, BBK, Apple, ZTE, Microsoft, LG, Sharp\n"
     ]
    },
    {
     "name": "stdin",
     "output_type": "stream",
     "text": [
      "Enter the brand to find the top 5 cheapest prices (or enter 'exit' to quit):  exit\n"
     ]
    }
   ],
   "source": [
    "def get_cheapest_prices_and_recommendations():\n",
    "    while True:\n",
    "        try:\n",
    "            brand_names = \", \".join(data_file['brand'].unique())\n",
    "            print(f\"Available device brand names in this dataset:\\n{brand_names}\")\n",
    "\n",
    "            user_brand = input(\"Enter the brand to find the top 5 cheapest prices (or enter 'exit' to quit): \").strip().lower()\n",
    "\n",
    "            if user_brand == 'exit':\n",
    "                break  # Exit the loop if the user wants to quit\n",
    "\n",
    "            filtered_data = data_file[data_file['brand'].str.lower() == user_brand]\n",
    "\n",
    "            if not filtered_data.empty:\n",
    "                top_5_cheapest = filtered_data.nsmallest(5, 'price')[['oem_id', 'price']]\n",
    "                print(f\"Top 5 cheapest prices for brand: {user_brand}\")\n",
    "                for _, row in top_5_cheapest.iterrows():\n",
    "                    print(f\"OEM ID: {row['oem_id']} - Price: {row['price']}\")\n",
    "\n",
    "                # Set a flag to control the loop\n",
    "                done = False\n",
    "\n",
    "                while not done:\n",
    "                    print()\n",
    "                    print(\"Now, you can enter the OEM ID of one of these devices to check for recommendations based on the price-performance ratio.\")\n",
    "                    user_id_input = input(\"Enter the OEM ID (or 'exit' to return to brand selection): \")\n",
    "\n",
    "                    if user_id_input == 'exit':\n",
    "                        done = True  # Exit the inner loop\n",
    "                    else:\n",
    "                        selected_device = filtered_data[filtered_data['oem_id'] == user_id_input]\n",
    "\n",
    "                        if not selected_device.empty:\n",
    "                            brand = selected_device['brand'].values[0]\n",
    "                            price = selected_device['price'].values[0]\n",
    "                            performance_score = selected_device['Performance_Score'].values[0]\n",
    "                            price_performance_ratio = selected_device['Price_Performance_Ratio'].values[0]\n",
    "\n",
    "                            print()\n",
    "                            print(f\"For this {brand} brand and OEM ID of {user_id_input} with a price of {price}:\")\n",
    "                            print(f\"The Performance score of the device is {performance_score:.2f}\")\n",
    "                            print(f\"The higher the number (up to {filtered_data['Performance_Score'].max():.2f}) the better the performance of the device.\")\n",
    "                            print(f\"The lower the number (down to {filtered_data['Performance_Score'].min():.2f}) the less the performance of the device.\")\n",
    "                            print(\"---------------------------------------------------------------------------------------------------------------------\")\n",
    "                            print(f\"The Price Performance Ratio for the device is {price_performance_ratio:.2f}\")\n",
    "                            print(f\"The higher the number (up to {filtered_data['Price_Performance_Ratio'].max():.2f}) the better the performance relative to the price.\")\n",
    "                            print(f\"The closer it is to (down to {filtered_data['Price_Performance_Ratio'].min():.2f}), the less the performance of the device for its price.\")\n",
    "\n",
    "                            if price_performance_ratio >= 5:  # Good buy threshold is 5.0\n",
    "                                print(\"This is a good buy! It offers great performance for its price.\")\n",
    "                            else:\n",
    "                                print(\"Based on the price performance ratio. \\nPlease consider other options. It may not provide the best value for your money.\")\n",
    "                        else:\n",
    "                            print(f\"No device with OEM ID {user_id_input} found in the dataset.\")\n",
    "            else:\n",
    "                print(f\"No data available for brand: {user_brand}\")\n",
    "        except Exception as e:\n",
    "            print(f\"An error occurred: {e}. Please try again.\")\n",
    "\n",
    "# Call the function to get the cheapest prices and recommendations\n",
    "get_cheapest_prices_and_recommendations()\n"
   ]
  },
  {
   "cell_type": "code",
   "execution_count": 11,
   "id": "102fceef-4d8b-4456-849c-b5ab43d2e5db",
   "metadata": {
    "tags": []
   },
   "outputs": [
    {
     "data": {
      "image/png": "[encoded data removed]",
      "text/plain": [
       "<Figure size 1000x600 with 1 Axes>"
      ]
     },
     "metadata": {},
     "output_type": "display_data"
    }
   ],
   "source": [
    "import matplotlib.pyplot as plt\n",
    "df = data_file\n",
    "def average_ppr():\n",
    "    # Create a bar chart to visualize the Price-Performance Ratio for all devices\n",
    "    # Group by brand and calculate the average Price-Performance Ratio\n",
    "    average_ppr_by_brand = df.groupby('brand')['Price_Performance_Ratio'].mean().reset_index()\n",
    "    # Create a bar chart to visualize the average Price-Performance Ratio for different brands\n",
    "    plt.figure(figsize=(10, 6))\n",
    "    plt.bar(average_ppr_by_brand['brand'], average_ppr_by_brand['Price_Performance_Ratio'])\n",
    "    plt.xlabel('Brand')\n",
    "    plt.ylabel('Average Price-Performance Ratio')\n",
    "    plt.title('Average Price-Performance Ratio for Different Brands')\n",
    "    plt.xticks(rotation=45)\n",
    "\n",
    "    # Display the values for the bars\n",
    "    for index, value in enumerate(average_ppr_by_brand['Price_Performance_Ratio']):\n",
    "        plt.text(index, value, f\"{value:.2f}\", ha='center', va='bottom')\n",
    "\n",
    "    plt.tight_layout()\n",
    "\n",
    "    # Save the chart to an image file (optional)\n",
    "    plt.savefig(\"average_price_performance_chart.png\")\n",
    "\n",
    "    # Show the chart\n",
    "    plt.show()\n",
    "average_ppr()"
   ]
  },
  {
   "cell_type": "markdown",
   "id": "83cde5a7-5aff-4551-8599-38e457898eb1",
   "metadata": {},
   "source": [
    "The Performance Score is a value calculated based on various specifications of the devices, such as CPU clock speed, RAM capacity, and non-volatile memory capacity. A higher Performance Score indicates a better overall performance of the device.\n",
    "*The Price-Performance Ratio is a measure of how well a device performs relative to its price. It is calculated by dividing the Performance Score by the price. A higher Price-Performance Ratio suggests that a device offers better performance for its cost."
   ]
  }
 ],
 "metadata": {
  "kernelspec": {
   "display_name": "COM728",
   "language": "python",
   "name": "com728"
  },
  "language_info": {
   "codemirror_mode": {
    "name": "ipython",
    "version": 3
   },
   "file_extension": ".py",
   "mimetype": "text/x-python",
   "name": "python",
   "nbconvert_exporter": "python",
   "pygments_lexer": "ipython3",
   "version": "3.10.13"
  }
 },
 "nbformat": 4,
 "nbformat_minor": 5
}
