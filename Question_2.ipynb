{
 "cells": [
  {
   "cell_type": "code",
   "execution_count": null,
   "id": "010d0ac0-73a1-4fe3-853e-57426ba722f7",
   "metadata": {},
   "outputs": [],
   "source": [
    "# loading dataset\n",
    "from Loading_dataset import load_pd_file"
   ]
  },
  {
   "cell_type": "code",
   "execution_count": 46,
   "id": "bd71efb7-6ce0-4909-94fb-fdf998559349",
   "metadata": {
    "tags": []
   },
   "outputs": [
    {
     "name": "stdout",
     "output_type": "stream",
     "text": [
      "Available device brand names in this dataset:\n",
      "Samsung, Motorola, Xiaomi, Nokia, Sony, Asus, Lenovo, T-Mobile, BBK, Apple, ZTE, Microsoft, LG, Sharp\n"
     ]
    },
    {
     "name": "stdin",
     "output_type": "stream",
     "text": [
      "Enter the brand you want to see (or 'quit' to exit):  samsung\n"
     ]
    },
    {
     "name": "stdout",
     "output_type": "stream",
     "text": [
      "Top regions for brand: samsung\n",
      "Region: North America - Count: 275\n",
      "Region: Asia - Count: 101\n",
      "Region: Asia,Southeast Asia - Count: 52\n",
      "Region: Africa,Asia,Australia,Central America,Eastern Europe,Europe,Middle East,North America,Oceania,South America,Southeast Asia,Western Europe,Worldwide - Count: 11\n",
      "Region: North America,South America - Count: 9\n",
      "Available device brand names in this dataset:\n",
      "Samsung, Motorola, Xiaomi, Nokia, Sony, Asus, Lenovo, T-Mobile, BBK, Apple, ZTE, Microsoft, LG, Sharp\n"
     ]
    },
    {
     "name": "stdin",
     "output_type": "stream",
     "text": [
      "Enter the brand you want to see (or 'quit' to exit):  quit\n"
     ]
    }
   ],
   "source": [
    "def get_brand_regions(loaded_data_pd):\n",
    "    # Group data to find the top regions for each brand\n",
    "    brand_counts = loaded_data_pd.groupby(['market_regions', 'brand']).size().reset_index(name='counts')\n",
    "    top_regions_by_brand = brand_counts.groupby('brand').apply(lambda x: x.nlargest(5, 'counts'))\n",
    "    top_regions_by_brand = top_regions_by_brand.drop(columns='brand').reset_index()\n",
    "\n",
    "    while True:\n",
    "        try:\n",
    "            brand_names = \", \".join(loaded_data_pd['brand'].unique())\n",
    "            print(f\"Available device brand names in this dataset:\\n{brand_names}\")\n",
    "\n",
    "            user_brand = input(\"Enter the brand you want to see (or 'quit' to exit): \").strip().lower()\n",
    "\n",
    "            if user_brand == 'quit':\n",
    "                break  # Exit the loop if the user wants to quit\n",
    "\n",
    "            user_brand_data = top_regions_by_brand[top_regions_by_brand['brand'].str.lower() == user_brand]\n",
    "\n",
    "            if not user_brand_data.empty:\n",
    "                print(f\"Top regions for brand: {user_brand}\")\n",
    "                for _, row in user_brand_data.iterrows():\n",
    "                    print(f\"Region: {row['market_regions']} - Count: {row['counts']}\")\n",
    "            else:\n",
    "                print(f\"No data available for brand: {user_brand}\")\n",
    "        except Exception as e:\n",
    "            print(f\"An error occurred: {e}. Please try again.\")\n",
    "\n",
    "# Call the function to get top regions for a brand\n",
    "# get_brand_regions(loaded_data_pd)\n"
   ]
  },
  {
   "cell_type": "code",
   "execution_count": 52,
   "id": "ec4768e2-a600-469e-a3de-973839777034",
   "metadata": {
    "tags": []
   },
   "outputs": [
    {
     "name": "stdout",
     "output_type": "stream",
     "text": [
      "The device brand names in this dataset are:\n",
      " Samsung, Motorola, Xiaomi, Nokia, Sony, Asus, Lenovo, T-Mobile, BBK, Apple, ZTE, Microsoft, LG, Sharp\n"
     ]
    },
    {
     "name": "stdin",
     "output_type": "stream",
     "text": [
      "Enter the brand (or 'all' for all brands):  samsung\n"
     ]
    },
    {
     "name": "stdout",
     "output_type": "stream",
     "text": [
      "These are the currencies you can choose from: \n",
      " USD, JPY, MXN, BRL, EUR, INR, GBP, CNY, TWD, THB, CAD, SGD, IDR, AED, TRY, MYR, HKD, AUD, KRW, CHF, ARS, KZT, HUF, PLN, RUB\n"
     ]
    },
    {
     "name": "stdin",
     "output_type": "stream",
     "text": [
      "Enter the currency (or 'all' for all currencies):  gbp\n"
     ]
    },
    {
     "name": "stdout",
     "output_type": "stream",
     "text": [
      "     brand price_currency  price\n",
      "0  Samsung            GBP  715.0\n",
      "No more rows available.\n"
     ]
    },
    {
     "name": "stdin",
     "output_type": "stream",
     "text": [
      "Would you like to calculate for another brand/currency (yes/no)?  no\n"
     ]
    }
   ],
   "source": [
    "def get_valid_input(prompt, valid_options):\n",
    "    display_options = [option.capitalize() for option in valid_options]\n",
    "\n",
    "    while True:\n",
    "        user_input = input(prompt).strip().lower()\n",
    "        if user_input in valid_options:\n",
    "            return user_input\n",
    "        print(f\"Invalid input. Please choose from the following options: {', '.join(display_options)}\")\n",
    "\n",
    "# Modify get_valid_input function as shown above\n",
    "\n",
    "def calculate_average_price_for_brand(loaded_data_pd):\n",
    "    while True:\n",
    "        try:\n",
    "            # Get user input for the brand\n",
    "            brand_name = \", \".join(loaded_data_pd['brand'].unique())\n",
    "            print(f\"The device brand names in this dataset are:\\n {brand_name}\")\n",
    "            brand_input = get_valid_input(\"Enter the brand (or 'all' for all brands): \", loaded_data_pd['brand'].str.lower().unique())\n",
    "\n",
    "            # Get user input for the currency\n",
    "            currency = \", \".join(loaded_data_pd['price_currency'].unique())\n",
    "            print(f\"These are the currencies you can choose from: \\n {currency}\")\n",
    "            currency_input = get_valid_input(\"Enter the currency (or 'all' for all currencies): \", loaded_data_pd['price_currency'].str.lower().unique())\n",
    "\n",
    "            # Filter the data based on user input\n",
    "            filtered_data = loaded_data_pd.copy()  # Create a copy of the original data to avoid modifying it\n",
    "\n",
    "            if brand_input != 'all':\n",
    "                filtered_data = filtered_data[filtered_data['brand'].str.lower() == brand_input]\n",
    "\n",
    "            if currency_input != 'all':\n",
    "                filtered_data = filtered_data[filtered_data['price_currency'].str.lower() == currency_input]\n",
    "\n",
    "            if filtered_data.empty:\n",
    "                print(f\"No data found for brand: '{brand_input}' and currency: '{currency_input}'\")\n",
    "            else:\n",
    "                # Group the filtered data by 'brand' and 'price_currency' and calculate the average price for each combination\n",
    "                brand_avg_prices = filtered_data.groupby(['brand', 'price_currency'])['price'].mean().round(2).reset_index()\n",
    "\n",
    "                if not brand_avg_prices.empty:\n",
    "                    num_rows = 20\n",
    "                    start_pos = 0\n",
    "                    end_pos = min(start_pos + num_rows, len(brand_avg_prices))\n",
    "\n",
    "                    while True:\n",
    "                        # Display the current set of rows\n",
    "                        print(brand_avg_prices.iloc[start_pos:end_pos])\n",
    "\n",
    "                        if end_pos >= len(brand_avg_prices):\n",
    "                            print(\"No more rows available.\")\n",
    "                            break\n",
    "\n",
    "                        user_input = input(\"Enter 'next' to retrieve the next 20 rows, or 'quit' to exit: \").strip().lower()\n",
    "                        if user_input == 'next':\n",
    "                            start_pos += num_rows\n",
    "                            end_pos = min(start_pos + num_rows, len(brand_avg_prices))\n",
    "                        elif user_input == 'quit':\n",
    "                            break\n",
    "\n",
    "            retry = get_valid_input(\"Would you like to calculate for another brand/currency (yes/no)? \", ['yes', 'no'])\n",
    "            if retry != 'yes':\n",
    "                break\n",
    "        except Exception as e:\n",
    "            print(f\"An error occurred: {e}. Please try again.\")\n",
    "\n",
    "# Call the function to calculate average prices for a brand\n",
    "# calculate_average_price_for_brand(loaded_data_pd)\n"
   ]
  },
  {
   "cell_type": "code",
   "execution_count": 51,
   "id": "9899a3d4-9a2b-412b-89d2-af8575ddef8f",
   "metadata": {
    "tags": []
   },
   "outputs": [
    {
     "name": "stdout",
     "output_type": "stream",
     "text": [
      "\u001b[1mAverage Mass by Brand\u001b[0m\n",
      "                        manufacturer  weight_gram\n",
      "0                   ASUSTeK Computer       221.37\n",
      "1                    BBK Electronics       201.00\n",
      "2          FIH Precision Electronics       203.75\n",
      "3                            Foxconn       315.15\n",
      "4                  Hon Hai Precision       144.00\n",
      "5                     LG Electronics       204.08\n",
      "6                             Lenovo       216.98\n",
      "7                     Luxshare iTech        31.60\n",
      "8                          Microsoft       284.00\n",
      "9          Rising Stars Mobile India       196.50\n",
      "10               Samsung Electronics       205.64\n",
      "11                             Sharp       209.50\n",
      "12  Shenzhen TINNO Mobile Technology       198.84\n",
      "13                              Sony       189.36\n",
      "14                   Wingtech Mobile       204.50\n",
      "15                            Xiaomi       190.55\n",
      "16                               ZTE       195.50\n",
      "\n",
      "No more rows available.\n"
     ]
    }
   ],
   "source": [
    "def average_mass_brand(loaded_data_pd):\n",
    "    try:\n",
    "        # Group the data by 'manufacturer' and calculate the average 'weight_gram'\n",
    "        manufact_avg_mass = loaded_data_pd.groupby('manufacturer')['weight_gram'].mean().round(2).reset_index()\n",
    "\n",
    "        if not manufact_avg_mass.empty:\n",
    "            num_rows = 20\n",
    "            start_pos = 0\n",
    "            end_pos = min(start_pos + num_rows, len(manufact_avg_mass))\n",
    "\n",
    "            while True:\n",
    "                # Display the current set of rows\n",
    "                print(\"\\033[1mAverage Mass by Brand\\033[0m\")\n",
    "                print(manufact_avg_mass.iloc[start_pos:end_pos])\n",
    "\n",
    "                if end_pos >= len(manufact_avg_mass):\n",
    "                    print(\"\\nNo more rows available.\")\n",
    "                    break\n",
    "\n",
    "                user_input = input(\"\\nEnter 'next' to view the next 20 rows or 'quit' to exit: \").strip().lower()\n",
    "                if user_input == 'next':\n",
    "                    start_pos += num_rows\n",
    "                    end_pos = min(start_pos + num_rows, len(manufact_avg_mass))\n",
    "                elif user_input == 'quit':\n",
    "                    break\n",
    "                else:\n",
    "                    print(\"\\nInvalid input. Please enter 'next' or 'quit'.\")\n",
    "        else:\n",
    "            print(\"\\nNo data available for average mass by brand.\")\n",
    "    except Exception as e:\n",
    "        print(f\"\\nAn error occurred: {e}. Please try again.\")\n",
    "\n",
    "# Call the function to calculate average mass by brand\n",
    "# average_mass_brand(loaded_data_pd)\n"
   ]
  },
  {
   "cell_type": "code",
   "execution_count": 5,
   "id": "a540a9e6-7fed-44b3-ba33-05ab06cd058a",
   "metadata": {
    "tags": []
   },
   "outputs": [
    {
     "name": "stdout",
     "output_type": "stream",
     "text": [
      "\n",
      "Available device brand names in this dataset:\n",
      "Samsung, Motorola, Xiaomi, Nokia, Sony, Asus, Lenovo, T-Mobile, BBK, Apple, ZTE, Microsoft, LG, Sharp\n"
     ]
    },
    {
     "name": "stdin",
     "output_type": "stream",
     "text": [
      "Enter the brand to find the top 5 cheapest prices (or 'quit' to exit):  samsung\n"
     ]
    },
    {
     "name": "stdout",
     "output_type": "stream",
     "text": [
      "Top 5 cheapest prices for brand: samsung\n",
      "OEM ID: F711BZEBEUB - Price: 109.0\n",
      "OEM ID: A025VZKAVZW - Price: 149.99\n",
      "OEM ID: A047FZKUEUB - Price: 159.0\n",
      "OEM ID: M127FZGVEUE - Price: 159.0\n",
      "OEM ID: A025UZKAUSC - Price: 159.99\n"
     ]
    },
    {
     "name": "stdin",
     "output_type": "stream",
     "text": [
      "Enter the OEM ID of the device to calculate the price-performance ratio (or 'quit' to return to brand selection):  M127FZGVEUE\n"
     ]
    },
    {
     "name": "stdout",
     "output_type": "stream",
     "text": [
      "\n",
      "For this Samsung brand and OEM ID of M127FZGVEUE with a price of 159.0:\n",
      "The Performance score of the device is 814.00\n",
      "The higher the number (up to 1800.80) the better the performance of the device.\n",
      "The lower the number (down to 642.70) the less the performance of the device.\n",
      "---------------------------------------------------------------------------------------------------------------------\n",
      "The Price Performance Ratio for the device is 5.12\n",
      "The higher the number (up to 10.69) the better the performance relative to the price.\n",
      "The closer it is to (down to 0.00), the less the performance of the device for its price.\n",
      "This is a good buy! It offers great performance for its price.\n",
      "\n",
      "Available device brand names in this dataset:\n",
      "Samsung, Motorola, Xiaomi, Nokia, Sony, Asus, Lenovo, T-Mobile, BBK, Apple, ZTE, Microsoft, LG, Sharp\n"
     ]
    },
    {
     "name": "stdin",
     "output_type": "stream",
     "text": [
      "Enter the brand to find the top 5 cheapest prices (or 'quit' to exit):  quit\n"
     ]
    }
   ],
   "source": [
    "def get_cheapest_prices_and_calculate_ratio(loaded_data_pd):\n",
    "    while True:\n",
    "        try:\n",
    "            brand_names = \", \".join(loaded_data_pd['brand'].unique())\n",
    "            print()\n",
    "            print(f\"Available device brand names in this dataset:\\n{brand_names}\")\n",
    "\n",
    "            user_brand = input(\"Enter the brand to find the top 5 cheapest prices (or 'quit' to exit): \").strip().lower()\n",
    "\n",
    "            if user_brand == 'quit':\n",
    "                break  # Exit the loop if the user wants to quit\n",
    "\n",
    "            filtered_data = loaded_data_pd[loaded_data_pd['brand'].str.lower() == user_brand]\n",
    "\n",
    "            if not filtered_data.empty:\n",
    "                top_5_cheapest = filtered_data.nsmallest(5, 'price')[['oem_id', 'price']]\n",
    "                print(f\"Top 5 cheapest prices for brand: {user_brand}\")\n",
    "                for _, row in top_5_cheapest.iterrows():\n",
    "                    print(f\"OEM ID: {row['oem_id']} - Price: {row['price']}\")\n",
    "\n",
    "                user_id_input = input(\"Enter the OEM ID of the device to calculate the price-performance ratio (or 'quit' to return to brand selection): \").strip()\n",
    "\n",
    "                if user_id_input == 'quit':\n",
    "                    continue  # Continue to brand selection\n",
    "\n",
    "                calculate_price_performance_ratio(loaded_data_pd, user_id_input)\n",
    "            else:\n",
    "                print(f\"No data available for brand: {user_brand}\")\n",
    "        except Exception as e:\n",
    "            print(f\"An error occurred: {e}. Please try again.\")\n",
    "\n",
    "def calculate_price_performance_ratio(loaded_data_pd, user_id_input):\n",
    "    df = loaded_data_pd\n",
    "\n",
    "    # Define weightage factors\n",
    "    weight_cpu = 0.4\n",
    "    weight_ram = 0.3\n",
    "    weight_storage = 0.2\n",
    "    weight_price = 0.1\n",
    "\n",
    "    # Calculate a performance score based on specifications\n",
    "    df['Performance_Score'] = (weight_cpu * df['cpu_clock']) + \\\n",
    "                               (weight_ram * df['ram_capacity']) + \\\n",
    "                               (weight_storage * df['non_volatile_memory_capacity'])\n",
    "\n",
    "    # Calculate price-performance ratio\n",
    "    df['Price_Performance_Ratio'] = df['Performance_Score'] / df['price']\n",
    "\n",
    "    # Normalize the price-performance ratios\n",
    "    df['Normalized_Price_Performance'] = (df['Price_Performance_Ratio'] - df['Price_Performance_Ratio'].min()) / \\\n",
    "                                        (df['Price_Performance_Ratio'].max() - df['Price_Performance_Ratio'].min())\n",
    "\n",
    "    # Sort the devices by their normalized price-performance ratios\n",
    "    df = df.sort_values(by='Normalized_Price_Performance', ascending=False)\n",
    "\n",
    "    # Find and display information about the specified device\n",
    "    selected_device = df[df['oem_id'] == user_id_input]\n",
    "    if not selected_device.empty:\n",
    "        brand = selected_device['brand'].values[0]\n",
    "        price = selected_device['price'].values[0]\n",
    "        performance_score = selected_device['Performance_Score'].values[0]\n",
    "        price_performance_ratio = selected_device['Price_Performance_Ratio'].values[0]\n",
    "\n",
    "        print()\n",
    "        print(f\"For this {brand} brand and OEM ID of {user_id_input} with a price of {price}:\")\n",
    "        print(f\"The Performance score of the device is {performance_score:.2f}\")\n",
    "        print(f\"The higher the number (up to {df['Performance_Score'].max():.2f}) the better the performance of the device.\")\n",
    "        print(f\"The lower the number (down to {df['Performance_Score'].min():.2f}) the less the performance of the device.\")\n",
    "        print(\"---------------------------------------------------------------------------------------------------------------------\")\n",
    "        print(f\"The Price Performance Ratio for the device is {price_performance_ratio:.2f}\")\n",
    "        print(f\"The higher the number (up to {df['Price_Performance_Ratio'].max():.2f}) the better the performance relative to the price.\")\n",
    "        print(f\"The closer it is to (down to {df['Price_Performance_Ratio'].min():.2f}), the less the performance of the device for its price.\")\n",
    "\n",
    "        # Add recommendations based on the price-performance ratio\n",
    "        if price_performance_ratio >= 5:  # Good buy threshold is 5.0\n",
    "            print(\"This is a good buy! It offers great performance for its price.\")\n",
    "        else:\n",
    "            print(\"Based on the price performance ratio. \\nPlease consider other options. It may not provide the best value for your money.\")\n",
    "    else:\n",
    "        print(f\"No device with OEM ID {user_id_input} found in the dataset.\")\n",
    "\n",
    "# Now you can call your functions with the loaded data\n",
    "# get_cheapest_prices_and_calculate_ratio(loaded_data_pd)\n"
   ]
  }
 ],
 "metadata": {
  "kernelspec": {
   "display_name": "COM728",
   "language": "python",
   "name": "com728"
  },
  "language_info": {
   "codemirror_mode": {
    "name": "ipython",
    "version": 3
   },
   "file_extension": ".py",
   "mimetype": "text/x-python",
   "name": "python",
   "nbconvert_exporter": "python",
   "pygments_lexer": "ipython3",
   "version": "3.10.13"
  }
 },
 "nbformat": 4,
 "nbformat_minor": 5
}
