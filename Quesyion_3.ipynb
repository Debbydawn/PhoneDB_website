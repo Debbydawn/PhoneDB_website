{
 "cells": [
  {
   "cell_type": "code",
   "execution_count": 8,
   "id": "06ccaa2a-e442-4628-a077-cd51936d9638",
   "metadata": {
    "tags": []
   },
   "outputs": [
    {
     "name": "stdin",
     "output_type": "stream",
     "text": [
      "Enter the oem id:  TA-1448\n"
     ]
    },
    {
     "name": "stdout",
     "output_type": "stream",
     "text": [
      "The OEM ID TA-1448 details are:\n",
      "The model of the device is: G400 2022 5G TD-LTE US 64GB\n",
      "The manufacturer is: Shenzhen TINNO Mobile Technology\n",
      "The weight of the device is: 197.9\n",
      "The price of the device is: 234\n",
      "The price unit is: USD\n"
     ]
    },
    {
     "name": "stdin",
     "output_type": "stream",
     "text": [
      "Enter the code name:  Samsung A135\n"
     ]
    },
    {
     "name": "stdout",
     "output_type": "stream",
     "text": [
      "Brand: Samsung\n",
      "Model name: SM-A135U Galaxy A13 2022 Standard Edition TD-LTE US 32GB / SM-A135R4\n",
      "RAM: 3\n",
      "Market region: North America\n",
      "Date of addition: 02-08-23 18:10\n",
      "\n",
      "Brand: Samsung\n",
      "Model name: SM-A135U1/DS Galaxy A13 2022 Standard Edition Dual SIM TD-LTE US 32GB\n",
      "RAM: 3\n",
      "Market region: North America\n",
      "Date of addition: 01-08-23 09:00\n",
      "\n",
      "Brand: Samsung\n",
      "Model name: SM-A135U Galaxy A13 2022 Standard Edition TD-LTE US 32GB / SM-A135V\n",
      "RAM: 3\n",
      "Market region: North America\n",
      "Date of addition: 31-07-23 23:26\n",
      "\n",
      "Brand: Samsung\n",
      "Model name: SM-A135U Galaxy A13 2022 Standard Edition Dual SIM TD-LTE US 32GB / SM-A135T\n",
      "RAM: 3\n",
      "Market region: North America\n",
      "Date of addition: 21-07-23 22:38\n",
      "\n",
      "Brand: Samsung\n",
      "Model name: SM-A135N Galaxy A13 2022 Premium Edition TD-LTE KR 64GB\n",
      "RAM: 4\n",
      "Market region: Asia\n",
      "Date of addition: 04-03-23 16:55\n",
      "\n",
      "Brand: Samsung\n",
      "Model name: SM-A135F Galaxy A13 2022 Premium Edition Global TD-LTE 128GB\n",
      "RAM: 4\n",
      "Market region: Africa,Australia\n",
      "Date of addition: 23-06-22 11:08\n",
      "\n",
      "Brand: Samsung\n",
      "Model name: SM-A135F/DSN Galaxy A13 2022 Premium Edition Global Dual SIM TD-LTE 128GB\n",
      "RAM: 4\n",
      "Market region: Asia,Central America,Eastern Europe,Europe,Western Europe\n",
      "Date of addition: 23-06-22 09:13\n",
      "\n",
      "Brand: Samsung\n",
      "Model name: SM-A135M Galaxy A13 2022 Premium Edition TD-LTE LATAM 64GB\n",
      "RAM: 4\n",
      "Market region: North America,South America\n",
      "Date of addition: 22-06-22 22:21\n",
      "\n",
      "Brand: Samsung\n",
      "Model name: SM-A135M/DS Galaxy A13 2022 Premium Edition Dual SIM TD-LTE LATAM 128GB\n",
      "RAM: 4\n",
      "Market region: South America\n",
      "Date of addition: 22-06-22 22:18\n",
      "\n",
      "Brand: Samsung\n",
      "Model name: SM-A135F/DS Galaxy A13 2022 Premium Edition Global Dual SIM TD-LTE 128GB\n",
      "RAM: 4\n",
      "Market region: Africa,Asia,Eastern Europe,Europe,Middle East,Western Europe\n",
      "Date of addition: 22-06-22 14:22\n",
      "\n",
      "Brand: Samsung\n",
      "Model name: SM-A135F/DS Galaxy A13 2022 Top Edition Global Dual SIM TD-LTE 128GB\n",
      "RAM: 6\n",
      "Market region: Africa,Asia,Australia,Eastern Europe,Europe,Middle East,Western Europe\n",
      "Date of addition: 22-06-22 14:11\n",
      "\n",
      "Brand: Samsung\n",
      "Model name: SM-A135F/DS Galaxy A13 2022 Premium Edition Global Dual SIM TD-LTE 64GB\n",
      "RAM: 4\n",
      "Market region: Africa,Asia,Australia,Eastern Europe,Europe,Middle East,Western Europe\n",
      "Date of addition: 22-06-22 13:48\n",
      "\n",
      "Brand: Samsung\n",
      "Model name: SM-A135F/DSN Galaxy A13 2022 Premium Edition Global Dual SIM TD-LTE 64GB\n",
      "RAM: 4\n",
      "Market region: Asia,Central America,Eastern Europe,Europe,Western Europe\n",
      "Date of addition: 22-06-22 12:54\n",
      "\n",
      "No more rows available.\n"
     ]
    },
    {
     "name": "stdin",
     "output_type": "stream",
     "text": [
      "Enter the RAM size:  3\n"
     ]
    },
    {
     "name": "stdout",
     "output_type": "stream",
     "text": [
      "OEM Id: A135UZKAUSC\n",
      "Release date: 28-03-22\n",
      "Announcement date: 04-03-22\n",
      "Dimensions: 3.01x6.5x0.35 inches\n",
      "Device category: Smartphone\n",
      "\n",
      "OEM Id: A135UZKDXAA\n",
      "Release date: 28-03-22\n",
      "Announcement date: 04-03-22\n",
      "Dimensions: 3.01x6.5x0.35 inches\n",
      "Device category: Smartphone\n",
      "\n",
      "OEM Id: A135UZKAVZW\n",
      "Release date: 28-03-22\n",
      "Announcement date: 04-03-22\n",
      "Dimensions: 3.01x6.5x0.35 inches\n",
      "Device category: Smartphone\n",
      "\n",
      "OEM Id: A135UZKAXAU\n",
      "Release date: 28-03-22\n",
      "Announcement date: 04-03-22\n",
      "Dimensions: 3.01x6.5x0.35 inches\n",
      "Device category: Smartphone\n",
      "\n",
      "OEM Id: TA-1560\n",
      "Release date: 02-06-23\n",
      "Announcement date: 01-05-23\n",
      "Dimensions: 2.91x6.33x0.34 inches\n",
      "Device category: Smartphone\n",
      "\n",
      "OEM Id: TA-1554\n",
      "Release date: 02-06-23\n",
      "Announcement date: 01-05-23\n",
      "Dimensions: 2.91x6.33x0.34 inches\n",
      "Device category: Smartphone\n",
      "\n",
      "OEM Id: TA-1515\n",
      "Release date: 02-06-23\n",
      "Announcement date: 01-05-23\n",
      "Dimensions: 3.02x6.56x0.34 inches\n",
      "Device category: Smartphone\n",
      "\n",
      "OEM Id: TA-1550\n",
      "Release date: 02-06-23\n",
      "Announcement date: 05-05-23\n",
      "Dimensions: 3.02x6.56x0.34 inches\n",
      "Device category: Smartphone\n",
      "\n",
      "OEM Id: TA-1500\n",
      "Release date: 01-09-22\n",
      "Announcement date: 22-09-22\n",
      "Dimensions: 3.02x6.56x0.35 inches\n",
      "Device category: Smartphone\n",
      "\n",
      "OEM Id: TA-1430\n",
      "Release date: 01-10-22\n",
      "Announcement date: 22-09-22\n",
      "Dimensions: 3.02x6.56x0.35 inches\n",
      "Device category: Smartphone\n",
      "\n",
      "OEM Id: ZAAJ0006US\n",
      "Release date: 01-06-22\n",
      "Announcement date: 01-05-22\n",
      "Dimensions: 9.89x6.25x0.29 inches\n",
      "Device category: Tablet\n",
      "\n",
      "OEM Id: A037WZKAXAC\n",
      "Release date: 01-01-22\n",
      "Announcement date: 03-12-21\n",
      "Dimensions: 2.99x6.46x0.36 inches\n",
      "Device category: Smartphone\n",
      "\n",
      "OEM Id: A042MZKFLTP\n",
      "Release date: 01-11-22\n",
      "Announcement date: 21-10-22\n",
      "Dimensions: 2.99x6.46x0.36 inches\n",
      "Device category: Smartphone\n",
      "\n",
      "OEM Id: A042MLBAARO\n",
      "Release date: 01-12-22\n",
      "Announcement date: 21-10-22\n",
      "Dimensions: 2.99x6.46x0.36 inches\n",
      "Device category: Smartphone\n",
      "\n",
      "OEM Id: A042MZCHZTO\n",
      "Release date: 01-12-22\n",
      "Announcement date: 21-10-22\n",
      "Dimensions: 2.99x6.46x0.36 inches\n",
      "Device category: Smartphone\n",
      "\n",
      "OEM Id: A047FZKUEUB\n",
      "Release date: 22-09-22\n",
      "Announcement date: 01-09-22\n",
      "Dimensions: 3.02x6.48x0.36 inches\n",
      "Device category: Smartphone\n",
      "\n",
      "OEM Id: MC3EF\n",
      "Release date: 01-10-22\n",
      "Announcement date: 16-09-22\n",
      "Dimensions: 2.94x6.44x0.31 inches\n",
      "Device category: Smartphone\n",
      "\n",
      "OEM Id: MC3EE\n",
      "Release date: 12-10-22\n",
      "Announcement date: 16-09-22\n",
      "Dimensions: 2.94x6.44x0.31 inches\n",
      "Device category: Smartphone\n",
      "\n",
      "OEM Id: MC3D4\n",
      "Release date: 06-06-22\n",
      "Announcement date: 01-05-22\n",
      "Dimensions: 2.95x6.45x0.33 inches\n",
      "Device category: Smartphone\n",
      "\n",
      "OEM Id: TA-1429\n",
      "Release date: 01-09-22\n",
      "Announcement date: 10-09-22\n",
      "Dimensions: 2.99x6.49x0.34 inches\n",
      "Device category: Smartphone\n",
      "\n"
     ]
    },
    {
     "name": "stdin",
     "output_type": "stream",
     "text": [
      "Enter 'next' to retrieve the next 20 rows, or 'quit' to exit:  quit\n"
     ]
    },
    {
     "name": "stdout",
     "output_type": "stream",
     "text": [
      "The display of results is stopping...\n",
      "Stopped\n"
     ]
    }
   ],
   "source": [
    "from Question_1 import data"
   ]
  },
  {
   "cell_type": "code",
   "execution_count": 10,
   "id": "cbdc5ec0-5a20-419c-a0d3-5f215def1eed",
   "metadata": {},
   "outputs": [
    {
     "ename": "NameError",
     "evalue": "name 'load_csv_file' is not defined",
     "output_type": "error",
     "traceback": [
      "\u001b[1;31m---------------------------------------------------------------------------\u001b[0m",
      "\u001b[1;31mNameError\u001b[0m                                 Traceback (most recent call last)",
      "Cell \u001b[1;32mIn[10], line 2\u001b[0m\n\u001b[0;32m      1\u001b[0m \u001b[38;5;28;01mimport\u001b[39;00m \u001b[38;5;21;01mmatplotlib\u001b[39;00m\u001b[38;5;21;01m.\u001b[39;00m\u001b[38;5;21;01mpyplot\u001b[39;00m \u001b[38;5;28;01mas\u001b[39;00m \u001b[38;5;21;01mplt\u001b[39;00m\n\u001b[1;32m----> 2\u001b[0m data_y \u001b[38;5;241m=\u001b[39m \u001b[43mload_csv_file\u001b[49m()\n",
      "\u001b[1;31mNameError\u001b[0m: name 'load_csv_file' is not defined"
     ]
    }
   ],
   "source": [
    "import matplotlib.pyplot as plt\n",
    "data_y = load_csv_file()\n"
   ]
  },
  {
   "cell_type": "code",
   "execution_count": null,
   "id": "9748f760-7e33-4feb-97d9-37c6e5243873",
   "metadata": {},
   "outputs": [],
   "source": []
  }
 ],
 "metadata": {
  "kernelspec": {
   "display_name": "COM728",
   "language": "python",
   "name": "com728"
  },
  "language_info": {
   "codemirror_mode": {
    "name": "ipython",
    "version": 3
   },
   "file_extension": ".py",
   "mimetype": "text/x-python",
   "name": "python",
   "nbconvert_exporter": "python",
   "pygments_lexer": "ipython3",
   "version": "3.10.13"
  }
 },
 "nbformat": 4,
 "nbformat_minor": 5
}
