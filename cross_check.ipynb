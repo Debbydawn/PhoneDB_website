{
 "cells": [
  {
   "cell_type": "code",
   "execution_count": null,
   "id": "dfae4664",
   "metadata": {},
   "outputs": [],
   "source": []
  },
  {
   "cell_type": "code",
   "execution_count": null,
   "id": "47e77f98",
   "metadata": {},
   "outputs": [],
   "source": [
    "# \"device_features.csv\"\n",
    "file_location = input(\"Enter location: \")\n",
    "with open(file_location, \"r\") as file:\n",
    "    csv_reader = csv.reader(file)\n",
    "    # for row in csv_reader:\n",
    "        # print(row)\n",
    "# a1. Retrieve the model name, manufacturer, weight, price, and price unit for the device(s) based on the oem_id.\n",
    "# Loop through each row in the CSV file\n",
    "result_rows = []\n",
    "while True:\n",
    "    oem_id = input(\"Enter the oem id: \")\n",
    "    for row in file:\n",
    "        # Convert row[0] to integer for comparison\n",
    "        if row[0] == oem_id:\n",
    "            value1 = row[2]\n",
    "            value2 = row[6]\n",
    "            value3 = row[14]\n",
    "            value4 = row[15]\n",
    "            value5 = row[16]\n",
    "            # If it is, add the entire row to the list of matching rows\n",
    "            result_rows.append(row)\n",
    "            # Print the matching rows\n",
    "    if result_rows:\n",
    "        print(\"The Oem Id number {} details are :\\n\".format(oem_id))\n",
    "        print(\"The model of the device is :\", value1)\n",
    "        print(\"The manufactuerer is :\", value2)\n",
    "        print(\"The weight of the device is :\", value3)\n",
    "        print(\"The price of the device is : \", value4)\n",
    "        print(\"The price unit is : \", value5)\n",
    "    else:\n",
    "        print(\"No match for the oem Id details found.\")\n",
    "return"
   ]
  }
 ],
 "metadata": {
  "kernelspec": {
   "display_name": "COM728",
   "language": "python",
   "name": "com728"
  },
  "language_info": {
   "codemirror_mode": {
    "name": "ipython",
    "version": 3
   },
   "file_extension": ".py",
   "mimetype": "text/x-python",
   "name": "python",
   "nbconvert_exporter": "python",
   "pygments_lexer": "ipython3",
   "version": "3.10.13"
  }
 },
 "nbformat": 4,
 "nbformat_minor": 5
}
